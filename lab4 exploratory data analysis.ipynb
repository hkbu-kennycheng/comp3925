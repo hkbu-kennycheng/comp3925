{
  "nbformat": 4,
  "nbformat_minor": 0,
  "metadata": {
    "colab": {
      "name": "lab4.ipynb",
      "provenance": [],
      "collapsed_sections": [],
      "machine_shape": "hm",
      "authorship_tag": "ABX9TyPMN5aV9ILDZ0WHVlGC8pJL",
      "include_colab_link": true
    },
    "kernelspec": {
      "name": "python3",
      "display_name": "Python 3"
    },
    "language_info": {
      "name": "python"
    }
  },
  "cells": [
    {
      "cell_type": "markdown",
      "metadata": {
        "id": "view-in-github",
        "colab_type": "text"
      },
      "source": [
        "<a href=\"https://colab.research.google.com/github/hkbu-kennycheng/comp3925/blob/main/lab4%20exploratory%20data%20analysis.ipynb\" target=\"_parent\"><img src=\"https://colab.research.google.com/assets/colab-badge.svg\" alt=\"Open In Colab\"/></a>"
      ]
    },
    {
      "cell_type": "markdown",
      "source": [
        "# lab4 exploratory data analysis"
      ],
      "metadata": {
        "id": "PBYR7AgIuNxV"
      }
    },
    {
      "cell_type": "code",
      "source": [
        "import requests\n",
        "import json\n",
        "import numpy as np\n",
        "import pandas as pd\n",
        "import seaborn as sns\n",
        "from bs4 import BeautifulSoup\n",
        "from tqdm import tqdm"
      ],
      "metadata": {
        "id": "h0fHXi7CgCKZ",
        "colab": {
          "base_uri": "https://localhost:8080/"
        },
        "outputId": "890f5f1c-0d0b-4d5e-a1c9-669562556e8c"
      },
      "execution_count": 2,
      "outputs": [
        {
          "output_type": "stream",
          "name": "stderr",
          "text": [
            "/usr/local/lib/python3.7/dist-packages/requests/__init__.py:91: RequestsDependencyWarning: urllib3 (1.26.8) or chardet (3.0.4) doesn't match a supported version!\n",
            "  RequestsDependencyWarning)\n"
          ]
        }
      ]
    },
    {
      "cell_type": "markdown",
      "source": [
        "# Revision of web data crawling"
      ],
      "metadata": {
        "id": "8dYyFjsa36Or"
      }
    },
    {
      "cell_type": "markdown",
      "source": [
        "Wrapping requests with a function which would return a `BeautifulSoup` object."
      ],
      "metadata": {
        "id": "WFtRbr9oqBdo"
      }
    },
    {
      "cell_type": "code",
      "source": [
        "def searchParknShopSoup(keyword, perPage, page):\n",
        "  headers = {\n",
        "    'User-Agent': 'Mozilla/5.0 (Macintosh; Intel Mac OS X 10_11_6) AppleWebKit/605.1.15 (KHTML, like Gecko) Version/11.1.2 Safari/605.1.15'\n",
        "  }\n",
        "  r = requests.get(f'https://www.parknshop.com/search?q=&page={page}&resultsForPage={perPage}&text={keyword}&sort=&category2nd=0&category3rd=0&minSel=4.0&maxSel=1650.0&minSlider=4.0&maxSlider=1650.0&strictSearch=&_=1644309749305', headers=headers)\n",
        "  soup = BeautifulSoup(r.text)\n",
        "  return soup"
      ],
      "metadata": {
        "id": "SSDRgnbbwSOL"
      },
      "execution_count": null,
      "outputs": []
    },
    {
      "cell_type": "markdown",
      "source": [
        "Make use of above function to develop a function for getting total number of products."
      ],
      "metadata": {
        "id": "uWAN1WKMqIVp"
      }
    },
    {
      "cell_type": "code",
      "source": [
        "def searchParknShopTotal(keyword):\n",
        "  soup = searchParknShopSoup(keyword, 1, 1)\n",
        "  total = int(soup.select_one('.search-result-title-container .totalNumber').text)\n",
        "  return total "
      ],
      "metadata": {
        "id": "wdEvSi0yvSOh"
      },
      "execution_count": null,
      "outputs": []
    },
    {
      "cell_type": "code",
      "source": [
        "total = searchParknShopTotal('0')\n",
        "total"
      ],
      "metadata": {
        "colab": {
          "base_uri": "https://localhost:8080/"
        },
        "id": "WeRhutw7xDWQ",
        "outputId": "7584823b-43ec-47ac-ac23-e85b3c011235"
      },
      "execution_count": null,
      "outputs": [
        {
          "output_type": "execute_result",
          "data": {
            "text/plain": [
              "13945"
            ]
          },
          "metadata": {},
          "execution_count": 67
        }
      ]
    },
    {
      "cell_type": "code",
      "execution_count": null,
      "metadata": {
        "id": "dVUMe6L_X_dh"
      },
      "outputs": [],
      "source": [
        "def searchParknShopWithPage(keyword, perPage, pageNum):\n",
        "  total = searchParknShopTotal(keyword)\n",
        "  if total == 0:\n",
        "    return pd.DataFrame(columns=['name', 'price'])\n",
        "    \n",
        "  soup = searchParknShopSoup(keyword, perPage, pageNum)\n",
        "  return pd.DataFrame([{\n",
        "      'name': ''.join([e.text.strip() for e in e.select('.name .text')]),\n",
        "      'price': ' '.join([e.text.strip().lstrip('HK$').replace(',','') for e in e.select('.discount')])\n",
        "  } for e in soup.select(\".product-container .item\")])"
      ]
    },
    {
      "cell_type": "code",
      "source": [
        "perPage = 150\n",
        "df = searchParknShopWithPage('(0)', perPage, 1)\n",
        "df"
      ],
      "metadata": {
        "colab": {
          "base_uri": "https://localhost:8080/",
          "height": 424
        },
        "id": "Ig7QZ6WqiJao",
        "outputId": "c96f7f80-de23-4cb4-dbd8-8edba088851b"
      },
      "execution_count": null,
      "outputs": [
        {
          "output_type": "execute_result",
          "data": {
            "text/html": [
              "\n",
              "  <div id=\"df-a21e4345-3a34-4451-87e5-f3198caacee6\">\n",
              "    <div class=\"colab-df-container\">\n",
              "      <div>\n",
              "<style scoped>\n",
              "    .dataframe tbody tr th:only-of-type {\n",
              "        vertical-align: middle;\n",
              "    }\n",
              "\n",
              "    .dataframe tbody tr th {\n",
              "        vertical-align: top;\n",
              "    }\n",
              "\n",
              "    .dataframe thead th {\n",
              "        text-align: right;\n",
              "    }\n",
              "</style>\n",
              "<table border=\"1\" class=\"dataframe\">\n",
              "  <thead>\n",
              "    <tr style=\"text-align: right;\">\n",
              "      <th></th>\n",
              "      <th>name</th>\n",
              "      <th>price</th>\n",
              "    </tr>\n",
              "  </thead>\n",
              "  <tbody>\n",
              "    <tr>\n",
              "      <th>0</th>\n",
              "      <td>Dishwash Detergent-lemon</td>\n",
              "      <td>21.00</td>\n",
              "    </tr>\n",
              "    <tr>\n",
              "      <th>1</th>\n",
              "      <td>Oregano</td>\n",
              "      <td>20.50</td>\n",
              "    </tr>\n",
              "    <tr>\n",
              "      <th>2</th>\n",
              "      <td>Mr Juicy 100% Apple Juice</td>\n",
              "      <td>20.50</td>\n",
              "    </tr>\n",
              "    <tr>\n",
              "      <th>3</th>\n",
              "      <td>Malkist Lemon Flavour Sandwich</td>\n",
              "      <td>19.90</td>\n",
              "    </tr>\n",
              "    <tr>\n",
              "      <th>4</th>\n",
              "      <td>Scrub Sponge</td>\n",
              "      <td>9.90</td>\n",
              "    </tr>\n",
              "    <tr>\n",
              "      <th>...</th>\n",
              "      <td>...</td>\n",
              "      <td>...</td>\n",
              "    </tr>\n",
              "    <tr>\n",
              "      <th>145</th>\n",
              "      <td>85 Dark Chocolate</td>\n",
              "      <td>29.90</td>\n",
              "    </tr>\n",
              "    <tr>\n",
              "      <th>146</th>\n",
              "      <td>Oolong Tea Bags</td>\n",
              "      <td>10.90</td>\n",
              "    </tr>\n",
              "    <tr>\n",
              "      <th>147</th>\n",
              "      <td>Dried Apricots</td>\n",
              "      <td>29.90</td>\n",
              "    </tr>\n",
              "    <tr>\n",
              "      <th>148</th>\n",
              "      <td>Baked Beans In Tomato Sauce</td>\n",
              "      <td>9.90</td>\n",
              "    </tr>\n",
              "    <tr>\n",
              "      <th>149</th>\n",
              "      <td>Royal Castle White Rum</td>\n",
              "      <td>89.00</td>\n",
              "    </tr>\n",
              "  </tbody>\n",
              "</table>\n",
              "<p>150 rows × 2 columns</p>\n",
              "</div>\n",
              "      <button class=\"colab-df-convert\" onclick=\"convertToInteractive('df-a21e4345-3a34-4451-87e5-f3198caacee6')\"\n",
              "              title=\"Convert this dataframe to an interactive table.\"\n",
              "              style=\"display:none;\">\n",
              "        \n",
              "  <svg xmlns=\"http://www.w3.org/2000/svg\" height=\"24px\"viewBox=\"0 0 24 24\"\n",
              "       width=\"24px\">\n",
              "    <path d=\"M0 0h24v24H0V0z\" fill=\"none\"/>\n",
              "    <path d=\"M18.56 5.44l.94 2.06.94-2.06 2.06-.94-2.06-.94-.94-2.06-.94 2.06-2.06.94zm-11 1L8.5 8.5l.94-2.06 2.06-.94-2.06-.94L8.5 2.5l-.94 2.06-2.06.94zm10 10l.94 2.06.94-2.06 2.06-.94-2.06-.94-.94-2.06-.94 2.06-2.06.94z\"/><path d=\"M17.41 7.96l-1.37-1.37c-.4-.4-.92-.59-1.43-.59-.52 0-1.04.2-1.43.59L10.3 9.45l-7.72 7.72c-.78.78-.78 2.05 0 2.83L4 21.41c.39.39.9.59 1.41.59.51 0 1.02-.2 1.41-.59l7.78-7.78 2.81-2.81c.8-.78.8-2.07 0-2.86zM5.41 20L4 18.59l7.72-7.72 1.47 1.35L5.41 20z\"/>\n",
              "  </svg>\n",
              "      </button>\n",
              "      \n",
              "  <style>\n",
              "    .colab-df-container {\n",
              "      display:flex;\n",
              "      flex-wrap:wrap;\n",
              "      gap: 12px;\n",
              "    }\n",
              "\n",
              "    .colab-df-convert {\n",
              "      background-color: #E8F0FE;\n",
              "      border: none;\n",
              "      border-radius: 50%;\n",
              "      cursor: pointer;\n",
              "      display: none;\n",
              "      fill: #1967D2;\n",
              "      height: 32px;\n",
              "      padding: 0 0 0 0;\n",
              "      width: 32px;\n",
              "    }\n",
              "\n",
              "    .colab-df-convert:hover {\n",
              "      background-color: #E2EBFA;\n",
              "      box-shadow: 0px 1px 2px rgba(60, 64, 67, 0.3), 0px 1px 3px 1px rgba(60, 64, 67, 0.15);\n",
              "      fill: #174EA6;\n",
              "    }\n",
              "\n",
              "    [theme=dark] .colab-df-convert {\n",
              "      background-color: #3B4455;\n",
              "      fill: #D2E3FC;\n",
              "    }\n",
              "\n",
              "    [theme=dark] .colab-df-convert:hover {\n",
              "      background-color: #434B5C;\n",
              "      box-shadow: 0px 1px 3px 1px rgba(0, 0, 0, 0.15);\n",
              "      filter: drop-shadow(0px 1px 2px rgba(0, 0, 0, 0.3));\n",
              "      fill: #FFFFFF;\n",
              "    }\n",
              "  </style>\n",
              "\n",
              "      <script>\n",
              "        const buttonEl =\n",
              "          document.querySelector('#df-a21e4345-3a34-4451-87e5-f3198caacee6 button.colab-df-convert');\n",
              "        buttonEl.style.display =\n",
              "          google.colab.kernel.accessAllowed ? 'block' : 'none';\n",
              "\n",
              "        async function convertToInteractive(key) {\n",
              "          const element = document.querySelector('#df-a21e4345-3a34-4451-87e5-f3198caacee6');\n",
              "          const dataTable =\n",
              "            await google.colab.kernel.invokeFunction('convertToInteractive',\n",
              "                                                     [key], {});\n",
              "          if (!dataTable) return;\n",
              "\n",
              "          const docLinkHtml = 'Like what you see? Visit the ' +\n",
              "            '<a target=\"_blank\" href=https://colab.research.google.com/notebooks/data_table.ipynb>data table notebook</a>'\n",
              "            + ' to learn more about interactive tables.';\n",
              "          element.innerHTML = '';\n",
              "          dataTable['output_type'] = 'display_data';\n",
              "          await google.colab.output.renderOutput(dataTable, element);\n",
              "          const docLink = document.createElement('div');\n",
              "          docLink.innerHTML = docLinkHtml;\n",
              "          element.appendChild(docLink);\n",
              "        }\n",
              "      </script>\n",
              "    </div>\n",
              "  </div>\n",
              "  "
            ],
            "text/plain": [
              "                               name  price\n",
              "0          Dishwash Detergent-lemon  21.00\n",
              "1                           Oregano  20.50\n",
              "2         Mr Juicy 100% Apple Juice  20.50\n",
              "3    Malkist Lemon Flavour Sandwich  19.90\n",
              "4                      Scrub Sponge   9.90\n",
              "..                              ...    ...\n",
              "145               85 Dark Chocolate  29.90\n",
              "146                 Oolong Tea Bags  10.90\n",
              "147                  Dried Apricots  29.90\n",
              "148     Baked Beans In Tomato Sauce   9.90\n",
              "149          Royal Castle White Rum  89.00\n",
              "\n",
              "[150 rows x 2 columns]"
            ]
          },
          "metadata": {},
          "execution_count": 65
        }
      ]
    },
    {
      "cell_type": "markdown",
      "source": [
        "Looping through all pages to get all product data"
      ],
      "metadata": {
        "id": "09K9CJjzqP6T"
      }
    },
    {
      "cell_type": "code",
      "source": [
        "for i in tqdm(range(1, total // perPage + 1)):\n",
        "  df = df.append(searchParknShopWithPage('0', perPage, i))"
      ],
      "metadata": {
        "colab": {
          "base_uri": "https://localhost:8080/"
        },
        "id": "Imtq256SfsbZ",
        "outputId": "1f3257ba-afef-413b-ec0d-b0b0b4f831ff"
      },
      "execution_count": null,
      "outputs": [
        {
          "output_type": "stream",
          "name": "stderr",
          "text": [
            "100%|██████████| 92/92 [22:44<00:00, 14.83s/it]\n"
          ]
        }
      ]
    },
    {
      "cell_type": "markdown",
      "source": [
        "Save as a csv file for backup"
      ],
      "metadata": {
        "id": "0yONGepHqU75"
      }
    },
    {
      "cell_type": "code",
      "source": [
        "df.to_csv('pns.csv')"
      ],
      "metadata": {
        "id": "KcZOE6d_gAqw"
      },
      "execution_count": null,
      "outputs": []
    },
    {
      "cell_type": "code",
      "source": [
        "!wget https://gist.githubusercontent.com/hkbu-kennycheng/2f08dff0e3c7886c5e607556b2fed21d/raw/f1f3a6794e6deb9b75ec3084a11b21ac247d822d/pns.csv"
      ],
      "metadata": {
        "colab": {
          "base_uri": "https://localhost:8080/"
        },
        "id": "o7GgRpqBzI1-",
        "outputId": "02fabed5-8448-43a7-ac38-4f5b441cc43a"
      },
      "execution_count": 2,
      "outputs": [
        {
          "output_type": "stream",
          "name": "stdout",
          "text": [
            "--2022-02-09 03:58:01--  https://gist.githubusercontent.com/hkbu-kennycheng/2f08dff0e3c7886c5e607556b2fed21d/raw/f1f3a6794e6deb9b75ec3084a11b21ac247d822d/pns.csv\n",
            "Resolving gist.githubusercontent.com (gist.githubusercontent.com)... 185.199.108.133, 185.199.109.133, 185.199.111.133, ...\n",
            "Connecting to gist.githubusercontent.com (gist.githubusercontent.com)|185.199.108.133|:443... connected.\n",
            "HTTP request sent, awaiting response... 200 OK\n",
            "Length: 518112 (506K) [text/plain]\n",
            "Saving to: ‘pns.csv’\n",
            "\n",
            "pns.csv             100%[===================>] 505.97K  --.-KB/s    in 0.05s   \n",
            "\n",
            "2022-02-09 03:58:02 (10.9 MB/s) - ‘pns.csv’ saved [518112/518112]\n",
            "\n"
          ]
        }
      ]
    },
    {
      "cell_type": "code",
      "source": [
        "df = pd.read_csv('pns.csv', index_col=0)"
      ],
      "metadata": {
        "id": "bUx2b_i4j5oT"
      },
      "execution_count": 3,
      "outputs": []
    },
    {
      "cell_type": "code",
      "source": [
        "df"
      ],
      "metadata": {
        "colab": {
          "base_uri": "https://localhost:8080/",
          "height": 424
        },
        "id": "PjJI6qBXsYqO",
        "outputId": "fc7b584f-c5e2-4665-beda-313c98a56905"
      },
      "execution_count": null,
      "outputs": [
        {
          "output_type": "execute_result",
          "data": {
            "text/html": [
              "\n",
              "  <div id=\"df-e7869304-0dcb-47c6-b1aa-6f68e5d2c50a\">\n",
              "    <div class=\"colab-df-container\">\n",
              "      <div>\n",
              "<style scoped>\n",
              "    .dataframe tbody tr th:only-of-type {\n",
              "        vertical-align: middle;\n",
              "    }\n",
              "\n",
              "    .dataframe tbody tr th {\n",
              "        vertical-align: top;\n",
              "    }\n",
              "\n",
              "    .dataframe thead th {\n",
              "        text-align: right;\n",
              "    }\n",
              "</style>\n",
              "<table border=\"1\" class=\"dataframe\">\n",
              "  <thead>\n",
              "    <tr style=\"text-align: right;\">\n",
              "      <th></th>\n",
              "      <th>name</th>\n",
              "      <th>price</th>\n",
              "    </tr>\n",
              "  </thead>\n",
              "  <tbody>\n",
              "    <tr>\n",
              "      <th>0</th>\n",
              "      <td>Ham Sliced</td>\n",
              "      <td>39.9</td>\n",
              "    </tr>\n",
              "    <tr>\n",
              "      <th>1</th>\n",
              "      <td>Instant Oatmeal</td>\n",
              "      <td>27.9</td>\n",
              "    </tr>\n",
              "    <tr>\n",
              "      <th>2</th>\n",
              "      <td>Dishwash Detergent-lemon</td>\n",
              "      <td>21.0</td>\n",
              "    </tr>\n",
              "    <tr>\n",
              "      <th>3</th>\n",
              "      <td>Oregano</td>\n",
              "      <td>20.5</td>\n",
              "    </tr>\n",
              "    <tr>\n",
              "      <th>4</th>\n",
              "      <td>Mr Juicy 100% Apple Juice</td>\n",
              "      <td>20.5</td>\n",
              "    </tr>\n",
              "    <tr>\n",
              "      <th>...</th>\n",
              "      <td>...</td>\n",
              "      <td>...</td>\n",
              "    </tr>\n",
              "    <tr>\n",
              "      <th>13749</th>\n",
              "      <td>Finland Pork Tenderloin</td>\n",
              "      <td>50.9</td>\n",
              "    </tr>\n",
              "    <tr>\n",
              "      <th>13750</th>\n",
              "      <td>Asw Lime + Sailormoon Plate (random Pick)</td>\n",
              "      <td>43.9</td>\n",
              "    </tr>\n",
              "    <tr>\n",
              "      <th>13751</th>\n",
              "      <td>Frozen Handcraft Udon</td>\n",
              "      <td>69.9</td>\n",
              "    </tr>\n",
              "    <tr>\n",
              "      <th>13752</th>\n",
              "      <td>Foaming Hw - Bottle + Refill (baby Powder)</td>\n",
              "      <td>49.9</td>\n",
              "    </tr>\n",
              "    <tr>\n",
              "      <th>13753</th>\n",
              "      <td>Okinawa P Sweet Potato Soyabean Milk</td>\n",
              "      <td>19.9</td>\n",
              "    </tr>\n",
              "  </tbody>\n",
              "</table>\n",
              "<p>13754 rows × 2 columns</p>\n",
              "</div>\n",
              "      <button class=\"colab-df-convert\" onclick=\"convertToInteractive('df-e7869304-0dcb-47c6-b1aa-6f68e5d2c50a')\"\n",
              "              title=\"Convert this dataframe to an interactive table.\"\n",
              "              style=\"display:none;\">\n",
              "        \n",
              "  <svg xmlns=\"http://www.w3.org/2000/svg\" height=\"24px\"viewBox=\"0 0 24 24\"\n",
              "       width=\"24px\">\n",
              "    <path d=\"M0 0h24v24H0V0z\" fill=\"none\"/>\n",
              "    <path d=\"M18.56 5.44l.94 2.06.94-2.06 2.06-.94-2.06-.94-.94-2.06-.94 2.06-2.06.94zm-11 1L8.5 8.5l.94-2.06 2.06-.94-2.06-.94L8.5 2.5l-.94 2.06-2.06.94zm10 10l.94 2.06.94-2.06 2.06-.94-2.06-.94-.94-2.06-.94 2.06-2.06.94z\"/><path d=\"M17.41 7.96l-1.37-1.37c-.4-.4-.92-.59-1.43-.59-.52 0-1.04.2-1.43.59L10.3 9.45l-7.72 7.72c-.78.78-.78 2.05 0 2.83L4 21.41c.39.39.9.59 1.41.59.51 0 1.02-.2 1.41-.59l7.78-7.78 2.81-2.81c.8-.78.8-2.07 0-2.86zM5.41 20L4 18.59l7.72-7.72 1.47 1.35L5.41 20z\"/>\n",
              "  </svg>\n",
              "      </button>\n",
              "      \n",
              "  <style>\n",
              "    .colab-df-container {\n",
              "      display:flex;\n",
              "      flex-wrap:wrap;\n",
              "      gap: 12px;\n",
              "    }\n",
              "\n",
              "    .colab-df-convert {\n",
              "      background-color: #E8F0FE;\n",
              "      border: none;\n",
              "      border-radius: 50%;\n",
              "      cursor: pointer;\n",
              "      display: none;\n",
              "      fill: #1967D2;\n",
              "      height: 32px;\n",
              "      padding: 0 0 0 0;\n",
              "      width: 32px;\n",
              "    }\n",
              "\n",
              "    .colab-df-convert:hover {\n",
              "      background-color: #E2EBFA;\n",
              "      box-shadow: 0px 1px 2px rgba(60, 64, 67, 0.3), 0px 1px 3px 1px rgba(60, 64, 67, 0.15);\n",
              "      fill: #174EA6;\n",
              "    }\n",
              "\n",
              "    [theme=dark] .colab-df-convert {\n",
              "      background-color: #3B4455;\n",
              "      fill: #D2E3FC;\n",
              "    }\n",
              "\n",
              "    [theme=dark] .colab-df-convert:hover {\n",
              "      background-color: #434B5C;\n",
              "      box-shadow: 0px 1px 3px 1px rgba(0, 0, 0, 0.15);\n",
              "      filter: drop-shadow(0px 1px 2px rgba(0, 0, 0, 0.3));\n",
              "      fill: #FFFFFF;\n",
              "    }\n",
              "  </style>\n",
              "\n",
              "      <script>\n",
              "        const buttonEl =\n",
              "          document.querySelector('#df-e7869304-0dcb-47c6-b1aa-6f68e5d2c50a button.colab-df-convert');\n",
              "        buttonEl.style.display =\n",
              "          google.colab.kernel.accessAllowed ? 'block' : 'none';\n",
              "\n",
              "        async function convertToInteractive(key) {\n",
              "          const element = document.querySelector('#df-e7869304-0dcb-47c6-b1aa-6f68e5d2c50a');\n",
              "          const dataTable =\n",
              "            await google.colab.kernel.invokeFunction('convertToInteractive',\n",
              "                                                     [key], {});\n",
              "          if (!dataTable) return;\n",
              "\n",
              "          const docLinkHtml = 'Like what you see? Visit the ' +\n",
              "            '<a target=\"_blank\" href=https://colab.research.google.com/notebooks/data_table.ipynb>data table notebook</a>'\n",
              "            + ' to learn more about interactive tables.';\n",
              "          element.innerHTML = '';\n",
              "          dataTable['output_type'] = 'display_data';\n",
              "          await google.colab.output.renderOutput(dataTable, element);\n",
              "          const docLink = document.createElement('div');\n",
              "          docLink.innerHTML = docLinkHtml;\n",
              "          element.appendChild(docLink);\n",
              "        }\n",
              "      </script>\n",
              "    </div>\n",
              "  </div>\n",
              "  "
            ],
            "text/plain": [
              "                                             name  price\n",
              "0                                      Ham Sliced   39.9\n",
              "1                                 Instant Oatmeal   27.9\n",
              "2                        Dishwash Detergent-lemon   21.0\n",
              "3                                         Oregano   20.5\n",
              "4                       Mr Juicy 100% Apple Juice   20.5\n",
              "...                                           ...    ...\n",
              "13749                     Finland Pork Tenderloin   50.9\n",
              "13750   Asw Lime + Sailormoon Plate (random Pick)   43.9\n",
              "13751                       Frozen Handcraft Udon   69.9\n",
              "13752  Foaming Hw - Bottle + Refill (baby Powder)   49.9\n",
              "13753        Okinawa P Sweet Potato Soyabean Milk   19.9\n",
              "\n",
              "[13754 rows x 2 columns]"
            ]
          },
          "metadata": {},
          "execution_count": 49
        }
      ]
    },
    {
      "cell_type": "code",
      "source": [
        "df.describe()"
      ],
      "metadata": {
        "colab": {
          "base_uri": "https://localhost:8080/",
          "height": 300
        },
        "id": "33-y9nVW3K1D",
        "outputId": "98750fcc-50d1-4ed4-8521-550238681e9a"
      },
      "execution_count": null,
      "outputs": [
        {
          "output_type": "execute_result",
          "data": {
            "text/html": [
              "\n",
              "  <div id=\"df-4ce5bcd8-24bb-4cf9-ba0e-abbc327c4e9f\">\n",
              "    <div class=\"colab-df-container\">\n",
              "      <div>\n",
              "<style scoped>\n",
              "    .dataframe tbody tr th:only-of-type {\n",
              "        vertical-align: middle;\n",
              "    }\n",
              "\n",
              "    .dataframe tbody tr th {\n",
              "        vertical-align: top;\n",
              "    }\n",
              "\n",
              "    .dataframe thead th {\n",
              "        text-align: right;\n",
              "    }\n",
              "</style>\n",
              "<table border=\"1\" class=\"dataframe\">\n",
              "  <thead>\n",
              "    <tr style=\"text-align: right;\">\n",
              "      <th></th>\n",
              "      <th>price</th>\n",
              "    </tr>\n",
              "  </thead>\n",
              "  <tbody>\n",
              "    <tr>\n",
              "      <th>count</th>\n",
              "      <td>13751.000000</td>\n",
              "    </tr>\n",
              "    <tr>\n",
              "      <th>mean</th>\n",
              "      <td>63.211244</td>\n",
              "    </tr>\n",
              "    <tr>\n",
              "      <th>std</th>\n",
              "      <td>108.908153</td>\n",
              "    </tr>\n",
              "    <tr>\n",
              "      <th>min</th>\n",
              "      <td>2.800000</td>\n",
              "    </tr>\n",
              "    <tr>\n",
              "      <th>25%</th>\n",
              "      <td>19.900000</td>\n",
              "    </tr>\n",
              "    <tr>\n",
              "      <th>50%</th>\n",
              "      <td>34.900000</td>\n",
              "    </tr>\n",
              "    <tr>\n",
              "      <th>75%</th>\n",
              "      <td>67.000000</td>\n",
              "    </tr>\n",
              "    <tr>\n",
              "      <th>max</th>\n",
              "      <td>2245.000000</td>\n",
              "    </tr>\n",
              "  </tbody>\n",
              "</table>\n",
              "</div>\n",
              "      <button class=\"colab-df-convert\" onclick=\"convertToInteractive('df-4ce5bcd8-24bb-4cf9-ba0e-abbc327c4e9f')\"\n",
              "              title=\"Convert this dataframe to an interactive table.\"\n",
              "              style=\"display:none;\">\n",
              "        \n",
              "  <svg xmlns=\"http://www.w3.org/2000/svg\" height=\"24px\"viewBox=\"0 0 24 24\"\n",
              "       width=\"24px\">\n",
              "    <path d=\"M0 0h24v24H0V0z\" fill=\"none\"/>\n",
              "    <path d=\"M18.56 5.44l.94 2.06.94-2.06 2.06-.94-2.06-.94-.94-2.06-.94 2.06-2.06.94zm-11 1L8.5 8.5l.94-2.06 2.06-.94-2.06-.94L8.5 2.5l-.94 2.06-2.06.94zm10 10l.94 2.06.94-2.06 2.06-.94-2.06-.94-.94-2.06-.94 2.06-2.06.94z\"/><path d=\"M17.41 7.96l-1.37-1.37c-.4-.4-.92-.59-1.43-.59-.52 0-1.04.2-1.43.59L10.3 9.45l-7.72 7.72c-.78.78-.78 2.05 0 2.83L4 21.41c.39.39.9.59 1.41.59.51 0 1.02-.2 1.41-.59l7.78-7.78 2.81-2.81c.8-.78.8-2.07 0-2.86zM5.41 20L4 18.59l7.72-7.72 1.47 1.35L5.41 20z\"/>\n",
              "  </svg>\n",
              "      </button>\n",
              "      \n",
              "  <style>\n",
              "    .colab-df-container {\n",
              "      display:flex;\n",
              "      flex-wrap:wrap;\n",
              "      gap: 12px;\n",
              "    }\n",
              "\n",
              "    .colab-df-convert {\n",
              "      background-color: #E8F0FE;\n",
              "      border: none;\n",
              "      border-radius: 50%;\n",
              "      cursor: pointer;\n",
              "      display: none;\n",
              "      fill: #1967D2;\n",
              "      height: 32px;\n",
              "      padding: 0 0 0 0;\n",
              "      width: 32px;\n",
              "    }\n",
              "\n",
              "    .colab-df-convert:hover {\n",
              "      background-color: #E2EBFA;\n",
              "      box-shadow: 0px 1px 2px rgba(60, 64, 67, 0.3), 0px 1px 3px 1px rgba(60, 64, 67, 0.15);\n",
              "      fill: #174EA6;\n",
              "    }\n",
              "\n",
              "    [theme=dark] .colab-df-convert {\n",
              "      background-color: #3B4455;\n",
              "      fill: #D2E3FC;\n",
              "    }\n",
              "\n",
              "    [theme=dark] .colab-df-convert:hover {\n",
              "      background-color: #434B5C;\n",
              "      box-shadow: 0px 1px 3px 1px rgba(0, 0, 0, 0.15);\n",
              "      filter: drop-shadow(0px 1px 2px rgba(0, 0, 0, 0.3));\n",
              "      fill: #FFFFFF;\n",
              "    }\n",
              "  </style>\n",
              "\n",
              "      <script>\n",
              "        const buttonEl =\n",
              "          document.querySelector('#df-4ce5bcd8-24bb-4cf9-ba0e-abbc327c4e9f button.colab-df-convert');\n",
              "        buttonEl.style.display =\n",
              "          google.colab.kernel.accessAllowed ? 'block' : 'none';\n",
              "\n",
              "        async function convertToInteractive(key) {\n",
              "          const element = document.querySelector('#df-4ce5bcd8-24bb-4cf9-ba0e-abbc327c4e9f');\n",
              "          const dataTable =\n",
              "            await google.colab.kernel.invokeFunction('convertToInteractive',\n",
              "                                                     [key], {});\n",
              "          if (!dataTable) return;\n",
              "\n",
              "          const docLinkHtml = 'Like what you see? Visit the ' +\n",
              "            '<a target=\"_blank\" href=https://colab.research.google.com/notebooks/data_table.ipynb>data table notebook</a>'\n",
              "            + ' to learn more about interactive tables.';\n",
              "          element.innerHTML = '';\n",
              "          dataTable['output_type'] = 'display_data';\n",
              "          await google.colab.output.renderOutput(dataTable, element);\n",
              "          const docLink = document.createElement('div');\n",
              "          docLink.innerHTML = docLinkHtml;\n",
              "          element.appendChild(docLink);\n",
              "        }\n",
              "      </script>\n",
              "    </div>\n",
              "  </div>\n",
              "  "
            ],
            "text/plain": [
              "              price\n",
              "count  13751.000000\n",
              "mean      63.211244\n",
              "std      108.908153\n",
              "min        2.800000\n",
              "25%       19.900000\n",
              "50%       34.900000\n",
              "75%       67.000000\n",
              "max     2245.000000"
            ]
          },
          "metadata": {},
          "execution_count": 54
        }
      ]
    },
    {
      "cell_type": "code",
      "source": [
        "df['price'].describe()"
      ],
      "metadata": {
        "colab": {
          "base_uri": "https://localhost:8080/"
        },
        "id": "0Lmzy5YZ3N6S",
        "outputId": "8b6cadcf-1efb-4a75-f0ab-8595d165698c"
      },
      "execution_count": null,
      "outputs": [
        {
          "output_type": "execute_result",
          "data": {
            "text/plain": [
              "count    13751.000000\n",
              "mean        63.211244\n",
              "std        108.908153\n",
              "min          2.800000\n",
              "25%         19.900000\n",
              "50%         34.900000\n",
              "75%         67.000000\n",
              "max       2245.000000\n",
              "Name: price, dtype: float64"
            ]
          },
          "metadata": {},
          "execution_count": 53
        }
      ]
    },
    {
      "cell_type": "markdown",
      "source": [
        "Replace with `np.nan`"
      ],
      "metadata": {
        "id": "ZqBGL7TbRx1Q"
      }
    },
    {
      "cell_type": "code",
      "source": [
        "df['price'].replace('', np.nan, inplace=True)"
      ],
      "metadata": {
        "id": "Ij_LVjVvRzoO"
      },
      "execution_count": null,
      "outputs": []
    },
    {
      "cell_type": "markdown",
      "source": [
        "## Mannings HK"
      ],
      "metadata": {
        "id": "wqH7vD2KikpY"
      }
    },
    {
      "cell_type": "code",
      "source": [
        "def tryMannings(keyword, pageNum):\n",
        "  headers = {\n",
        "    'User-Agent': 'Mozilla/5.0 (Macintosh; Intel Mac OS X 10_11_6) AppleWebKit/605.1.15 (KHTML, like Gecko) Version/11.1.2 Safari/605.1.15'\n",
        "  }\n",
        "  r = requests.get(f'https://www.mannings.com.hk/search?q={keyword}&page={pageNum}', headers=headers)\n",
        "  return r.text"
      ],
      "metadata": {
        "id": "Ez489joqin46"
      },
      "execution_count": null,
      "outputs": []
    },
    {
      "cell_type": "code",
      "source": [
        "tryMannings('2',0)"
      ],
      "metadata": {
        "colab": {
          "base_uri": "https://localhost:8080/",
          "height": 1000
        },
        "id": "Dty2DMWfizZ9",
        "outputId": "cd475bd3-0eac-425f-f8ce-25c640f77e9d"
      },
      "execution_count": null,
      "outputs": [
        {
          "output_type": "execute_result",
          "data": {
            "application/vnd.google.colaboratory.intrinsic+json": {
              "type": "string"
            },
            "text/plain": [
              "'<!DOCTYPE html>\\n<html lang=\"zh\" >\\n<head>\\n    <meta charset=\"utf-8\" />\\n<meta http-equiv=\"X-UA-Compatible\" content=\"IE=edge,chrome=1\" />\\n<meta name=\"viewport\" content=\"width=device-width, initial-scale=1.0\">\\n<meta name=\"robots\" content=\"noindex\">\\n<meta id=\"queue-it_log\" data-userid=\"0dc30916-7bc6-4bd8-9a30-4132744a05c4\" data-proxyurl=\"https://logging.queue-it.net/logging/event\" data-assemblyversion=\"4.4.447.0\" />\\n<title>Queue-it</title>\\n\\n    \\n\\n<link rel=\"apple-touch-icon-precomposed\" sizes=\"144x144\" href=\"//assets.queue-it.net/static/QueueFront/img/apple-touch-icon-144x144_7ca7792e6a9ca7868f574af6b9a7804d.png\" />\\n<link rel=\"apple-touch-icon-precomposed\" sizes=\"152x152\" href=\"//assets.queue-it.net/static/QueueFront/img/apple-touch-icon-152x152_d4b7d9278ce897bc68607c367f79e7cc.png\" />\\n<link rel=\"apple-touch-icon\" href=\"//assets.queue-it.net/static/QueueFront/img/queue-it_appletouch_7ca7792e6a9ca7868f574af6b9a7804d.png\" />\\n<link rel=\"icon\" type=\"image/png\" href=\"//assets.queue-it.net/static/QueueFront/img/favicon-32x32_b9bbae2ffa6bd8c9f22cfdfc6d77142a.png\" sizes=\"32x32\" />\\n<link rel=\"icon\" type=\"image/png\" href=\"//assets.queue-it.net/static/QueueFront/img/favicon-16x16_1c313213750977118fc9bccb99b43c3e.png\" sizes=\"16x16\" />\\n<link rel=\"shortcut icon\" href=\"//assets.queue-it.net/static/QueueFront/img/queue-it_f0e5daa9ac1a2225a6bad64734da1ebd.ico\" />\\n<meta name=\"application-name\" content=\"&nbsp;\" />\\n<meta name=\"msapplication-TileColor\" content=\"#FFFFFF\" />\\n<meta name=\"msapplication-TileImage\" content=\"//assets.queue-it.net/static/QueueFront/img/mstile-144x144_7ca7792e6a9ca7868f574af6b9a7804d.png\" />\\n    <link rel=\\'stylesheet\\' href=\\'//assets.queue-it.net/static/QueueFront/css/combined/style_c102db4f8b29ceabb83ea58e5d469286.css\\' type=\\'text/css\\' /><!--[if lte IE 7]><link rel=\\'stylesheet\\' href=\\'//assets.queue-it.net/static/QueueFront/css/combined/ie_9b8e0476ed11438548f82f973a454da3.css\\' type=\\'text/css\\' /><![endif]--><link rel=\\'stylesheet\\' href=\\'//assets.queue-it.net/dairyfarmgroup/userdata/v5/style01.css\\' type=\\'text/css\\' />\\n\\n    <script>\\n    (function () {\\n        if (!window.console)\\n            window.console = {};\\n\\n        if (!window.console.log)\\n            window.console.log = function () { };\\n\\n        if (!window.console.debug)\\n            window.console.debug = function () { };\\n    })();\\n</script>\\n<script>\\n    function getScriptBasePath() {\\n        return \\'/Script/combined/\\';\\n    }\\n</script>\\n<script type=\"text/javascript\" src=\"//assets.queue-it.net/static/QueueFront/Script/combined/common_a387adf3f9b4d19118846d173b343b00.js\" integrity=\"sha384-hG/wNs+x8L4wLW0QNSK+L5CORd6oKxNr0Mu55wfCjuSRK6wF2UoxHnleayfMX6j2\" crossorigin=\"anonymous\"></script>\\n<script>window.jQuery || document.write(\\'<script src=\"\\' + getScriptBasePath() + \\'common.js\\' + \\'\"><\\\\/script>\\')</script>\\n<script type=\"text/javascript\" src=\"//assets.queue-it.net/static/QueueFront/Script/combined/queueit_ef9b725ce322468d89f9d5709bdccf29.js\" integrity=\"sha384-hQOOaRDKWjRegh6/Dp5S7L/VlYzMNUtAybkX34GUEs4Hvx02sJf5UBb3u/XAnkC0\" crossorigin=\"anonymous\"></script>\\n<script>\\n    window.QueueIt || document.write(\\'<script src=\"\\' + getScriptBasePath() + \\'queueit.js\\' + \\'\"><\\\\/script>\\');\\n\\n    if (window.soundManager)\\n        window.soundManager.debugMode = false;\\n</script>\\n    <script type=\"text/javascript\"\\n            id=\"queueit-perftiming-script\"\\n            src=\"//assets.queue-it.net/script/statistics-1.0.317.min.js\"\\n            integrity=\"sha384-f5hjbSeb9WBd9AAymf5fnugW6mTsfRrM2H73Hpia4FA6V6bapwk39K8MTGwxZgw6\"\\n            crossorigin=\"anonymous\"\\n            data-queueit-c=\"dairyfarmgroup\"\\n            data-queueit-host=\"eu-west-1-perf-api.queue-it.net\"\\n            data-queueit-tag-eventid=\"manning\"\\n            data-queueit-tag-queueid=\"00000000-0000-0000-0000-000000000000\"\\n            data-queueit-tag-queueit=\"queue\"\\n            data-queueit-disableajax=\"true\">\\n    </script>\\n\\n\\n    \\n\\n<script type=\"text/javascript\">\\n    $(document).ready(function () {\\n        var language = \\'zh-Hant-HK\\';\\n    });\\n\\n    var queueViewModel = new QueueIt.Queue.SoftblockViewModel({\\n        customerId: \\'dairyfarmgroup\\',\\n        eventId: \\'manning\\',\\n        challengeVerifyEndpoint: \\'/challengeapi/verify\\',\\n        inqueueUrl: \\'%2F%3Fc%3Ddairyfarmgroup%26e%3Dmanning%26t%3Dhttps%253A%252F%252Fwww.mannings.com.hk%252Fsearch%253Fq%253D2%2526page%253D0%26cid%3Dzh-HK\\',\\n        tags: [],\\n        proofOfWorkSource: \\'//assets.queue-it.net/static/challenge/script/proofofwork.min.js\\',\\n        proofOfWorkHost: \\'dairyfarmgroup.queue-it.net\\',\\n        botDetectSource: \\'//assets.queue-it.net/static/challenge/script/botdetect.min.js\\',\\n        botDetectHost: \\'dairyfarmgroup.queue-it.net\\',\\n        captchaPublicKey: \\'6Lc9sScUAAAAALTk003eM2ytnYGGKQaQa7usPKwo\\',\\n        captchaInvisiblePublicKey: \\'6LePTyoUAAAAADPttQg1At44EFCygqxZYzgleaKp\\',\\n        challenges: [{\"name\":\"Recaptcha\",\"hasAnimation\":false}],\\n        culture: \\'zh-HK\\'\\n    });\\n\\n    $(document).ready(function () {\\n        window.queueViewModel.onReady(\"softblock\");\\n    });\\n</script>\\n\\n    <script type=\\'text/javascript\\' src=\\'//assets.queue-it.net/dairyfarmgroup/userdata/v5/script04.js\\'></script>\\n\\n</head>\\n<body data-pageid=\"softblock\" data-culture=\"zh-HK\" class=\"softblock\">\\n    <div id=\"toppanel\" data-bind=\"visible: layout.topPanelVisible\">\\n    <iframe id=\\'toppanel_iframe\\' src=\\'//assets.queue-it.net/dairyfarmgroup/userdata/v5/top01.html?c=dairyfarmgroup&e=manning&q=00000000-0000-0000-0000-000000000000&cid=zh-HK\\' allowtransparency=\\'true\\' frameborder=\\'0\\' scrolling=\\'no\\' data-bind=\"iframe-src-attr: { src: texts.toppanelIFrameSrc }\" title=\"top panel content\"></iframe>\\n</div>\\n\\n    <div id=\"wrapper\">\\n        <div id=\"leftpanel\" style=\"display: none;\" data-bind=\"visible: layout.leftPanelVisible\">\\n    <iframe id=\\'leftpanel_iframe\\' src=\\'\\' allowtransparency=\\'true\\' frameborder=\\'0\\' scrolling=\\'no\\' data-bind=\"iframe-src-attr: { src: texts.leftpanelIFrameSrc }\" title=\"right panel content\"></iframe>\\n</div>\\n\\n        <div id=\"main\">\\n            <div id=\"main-top\">\\n    <div id=\"language-selector\" title=\"select display language\" style=\"display: none;\" data-bind=\"visible: languageSelector.languages().length > 1 && languageSelector.languageSelectorVisible\">\\n        <select id=\"SharedTexts_Languages_SelectedValue\" data-bind=\"options: languageSelector.languages, optionsText:\\'text\\', optionsValue:\\'value\\', value:languageSelector.selectedLanguage \"></select>\\n    </div>\\n    <div id=\"main-top-message\">\\n        <p class=\"item\">\\n            <span id=\"lbCookieInfo\" data-bind=\"text: texts.cookiesInfoText, attr: { class: texts.cookiesInfoClass, title: texts.cookiesInfoTooltip }\"></span>\\n        </p>\\n    </div>\\n</div>\\n\\n            <div id=\"main_t\" class=\"t\"></div>\\n            <div id=\"main_c\" class=\"c\">\\n                <div id=\"content\">\\n                    <div id=\"header\">\\n    <h1 class=\"logo\" style=\"display: none;\" data-bind=\"visible: layout.logoVisible\">\\n        <img src=\"//assets.queue-it.net/static/QueueFront/img/queue-it_logo_c20bdd104f98eb49499434163ebdb42b.png\" id=\"imgCustomerLogo\" alt=\"logo\" longdesc=\"company logo for Master Concept (Hong Kong) Limited\" data-bind=\"attr: { src: texts.logoSrc }\" />\\n    </h1>\\n    <div id=\"headerparagraph\">\\n        <span id=\"lbHeaderP\" data-bind=\"html: texts.body\">你正在等候進入萬寧網上商店購物 ，請耐心等候。\\n請勿關閉此頁，你即將進入網頁</span>\\n    </div>\\n</div>\\n\\n                    \\n<div id=\"MainPart_divWarningBox\">\\n    <div id=\"divChallenge\">\\n        <div id=\"divChallenge_Content\">\\n            <div id=\"challenge-widget-container\">\\n                <div id=\"challenge-container\"></div>\\n                <div class=\"hidden\" id=\"three-bar-loader-container\">\\n                    <div class=\"three-bar-loader\"></div>\\n                    <div class=\"three-bar-loader\"></div>\\n                    <div class=\"three-bar-loader\"></div>\\n                </div>\\n            </div>\\n        </div>\\n    </div>\\n</div>\\n                </div>\\n                <div id=\"middlepanel\" style=\"display: none;\" data-bind=\"visible: layout.middlePanelVisible\">\\n    <iframe id=\\'middlepanel_iframe\\' src=\\'\\' allowtransparency=\\'true\\' frameborder=\\'0\\' scrolling=\\'no\\' data-bind=\"iframe-src-attr: { src: texts.middlepanelIFrameSrc }\" title=\"middle panel content\"></iframe>\\n</div>\\n\\n                    <div id=\"footer\">\\n        <div id=\"footer-disclaimer\" data-bind=\"html: texts.disclaimerText\"></div>\\n\\n        <div id=\"footer-direct-link\" style=\"display: none\" data-bind=\"visible: hasQueueId\"><span id=\"hlLinkToQueueTicket2Text\">&#x968A;&#x5217;ID&#xFF1A;</span> <a id=\"hlLinkToQueueTicket2\" data-bind=\"text: queueId, click: toggleQueueIdLinkModal\">00000000-0000-0000-0000-000000000000</a></div>       \\n            <div id=\"footer-queueit-link\">\\n                <strong class=\"by\">\\n                    <a href=\"https://queue-it.com/what-is-this.html?customerId=dairyfarmgroup&amp;eventId=manning&amp;queueId=00000000-0000-0000-0000-000000000000&amp;language=zh-HK\" id=\"aThisIsQueueIt\" target=\"_blank\">QUEUE-IT</a>\\n                </strong>\\n            </div>\\n    </div>\\n            </div>\\n            <div id=\"MainPart_divVersionInfo\" class=\"b\" title=\"4.4.447.0\"></div>\\n        </div>\\n        <div id=\"rightpanel\" style=\"display: none;\" data-bind=\"visible: layout.rightPanelVisible\">\\n    <iframe id=\\'rightpanel_iframe\\' src=\\'\\' allowtransparency=\\'true\\' frameborder=\\'0\\' scrolling=\\'no\\' data-bind=\"iframe-src-attr: { src: texts.rightpanelIFrameSrc }\" title=\"right panel content\"></iframe>\\n</div>\\n\\n    </div>\\n    <div id=\"sidebar\" style=\"display: none;\" data-bind=\"visible: layout.sidePanelVisible\">\\n    <iframe id=\\'sidebar_iframe\\' src=\\'\\' allowtransparency=\\'true\\' frameborder=\\'0\\' scrolling=\\'no\\' data-bind=\"iframe-src-attr: { src: texts.sidepanelIFrameSrc }\" title=\"sidebar content\"></iframe>\\n</div>\\n\\n    <div id=\"bottompanel\" style=\"display: none;\" data-bind=\"visible: layout.bottomPanelVisible\">\\n    <iframe id=\\'bottompanel_iframe\\' src=\\'\\' allowtransparency=\\'true\\' frameborder=\\'0\\' scrolling=\\'no\\' data-bind=\"iframe-src-attr: { src: texts.bottompanelIFrameSrc }\" title=\"bottom panel content\"></iframe>\\n</div>\\n\\n\\n\\n</body>\\n</html>\\n'"
            ]
          },
          "metadata": {},
          "execution_count": 49
        }
      ]
    },
    {
      "cell_type": "markdown",
      "source": [
        "# Advanced web crawling with pyppeteer"
      ],
      "metadata": {
        "id": "W1faZof5AFob"
      }
    },
    {
      "cell_type": "code",
      "source": [
        "!apt update\n",
        "!apt install chromium-browser chromium-chromedriver fonts-noto fonts-noto-cjk"
      ],
      "metadata": {
        "colab": {
          "base_uri": "https://localhost:8080/"
        },
        "id": "5um7KvCAAFML",
        "outputId": "bda8cf5b-7e55-4c79-9d6f-6da707adb47a"
      },
      "execution_count": 4,
      "outputs": [
        {
          "output_type": "stream",
          "name": "stdout",
          "text": [
            "Get:1 https://cloud.r-project.org/bin/linux/ubuntu bionic-cran40/ InRelease [3,626 B]\n",
            "Ign:2 https://developer.download.nvidia.com/compute/cuda/repos/ubuntu1804/x86_64  InRelease\n",
            "Ign:3 https://developer.download.nvidia.com/compute/machine-learning/repos/ubuntu1804/x86_64  InRelease\n",
            "Get:4 https://developer.download.nvidia.com/compute/cuda/repos/ubuntu1804/x86_64  Release [696 B]\n",
            "Hit:5 https://developer.download.nvidia.com/compute/machine-learning/repos/ubuntu1804/x86_64  Release\n",
            "Get:6 http://ppa.launchpad.net/c2d4u.team/c2d4u4.0+/ubuntu bionic InRelease [15.9 kB]\n",
            "Hit:7 http://archive.ubuntu.com/ubuntu bionic InRelease\n",
            "Get:8 https://developer.download.nvidia.com/compute/cuda/repos/ubuntu1804/x86_64  Release.gpg [836 B]\n",
            "Get:9 http://security.ubuntu.com/ubuntu bionic-security InRelease [88.7 kB]\n",
            "Get:10 http://archive.ubuntu.com/ubuntu bionic-updates InRelease [88.7 kB]\n",
            "Hit:12 http://ppa.launchpad.net/cran/libgit2/ubuntu bionic InRelease\n",
            "Get:13 https://developer.download.nvidia.com/compute/cuda/repos/ubuntu1804/x86_64  Packages [917 kB]\n",
            "Get:14 http://archive.ubuntu.com/ubuntu bionic-backports InRelease [74.6 kB]\n",
            "Hit:15 http://ppa.launchpad.net/deadsnakes/ppa/ubuntu bionic InRelease\n",
            "Get:16 http://security.ubuntu.com/ubuntu bionic-security/multiverse amd64 Packages [21.1 kB]\n",
            "Get:17 http://ppa.launchpad.net/graphics-drivers/ppa/ubuntu bionic InRelease [21.3 kB]\n",
            "Get:18 http://security.ubuntu.com/ubuntu bionic-security/restricted amd64 Packages [781 kB]\n",
            "Get:19 http://archive.ubuntu.com/ubuntu bionic-updates/restricted amd64 Packages [815 kB]\n",
            "Get:20 http://ppa.launchpad.net/c2d4u.team/c2d4u4.0+/ubuntu bionic/main Sources [1,825 kB]\n",
            "Get:21 http://security.ubuntu.com/ubuntu bionic-security/universe amd64 Packages [1,466 kB]\n",
            "Get:22 http://archive.ubuntu.com/ubuntu bionic-updates/multiverse amd64 Packages [29.1 kB]\n",
            "Get:23 http://archive.ubuntu.com/ubuntu bionic-updates/main amd64 Packages [2,995 kB]\n",
            "Get:24 http://security.ubuntu.com/ubuntu bionic-security/main amd64 Packages [2,557 kB]\n",
            "Get:25 http://archive.ubuntu.com/ubuntu bionic-updates/universe amd64 Packages [2,244 kB]\n",
            "Get:26 http://ppa.launchpad.net/c2d4u.team/c2d4u4.0+/ubuntu bionic/main amd64 Packages [935 kB]\n",
            "Get:27 http://ppa.launchpad.net/graphics-drivers/ppa/ubuntu bionic/main amd64 Packages [42.8 kB]\n",
            "Fetched 14.9 MB in 8s (1,933 kB/s)\n",
            "Reading package lists... Done\n",
            "Building dependency tree       \n",
            "Reading state information... Done\n",
            "62 packages can be upgraded. Run 'apt list --upgradable' to see them.\n",
            "Reading package lists... Done\n",
            "Building dependency tree       \n",
            "Reading state information... Done\n",
            "The following packages were automatically installed and are no longer required:\n",
            "  cuda-command-line-tools-10-0 cuda-command-line-tools-10-1\n",
            "  cuda-command-line-tools-11-0 cuda-compiler-10-0 cuda-compiler-10-1\n",
            "  cuda-compiler-11-0 cuda-cuobjdump-10-0 cuda-cuobjdump-10-1\n",
            "  cuda-cuobjdump-11-0 cuda-cupti-10-0 cuda-cupti-10-1 cuda-cupti-11-0\n",
            "  cuda-cupti-dev-11-0 cuda-documentation-10-0 cuda-documentation-10-1\n",
            "  cuda-documentation-11-0 cuda-documentation-11-1 cuda-gdb-10-0 cuda-gdb-10-1\n",
            "  cuda-gdb-11-0 cuda-gpu-library-advisor-10-0 cuda-gpu-library-advisor-10-1\n",
            "  cuda-libraries-10-0 cuda-libraries-10-1 cuda-libraries-11-0\n",
            "  cuda-memcheck-10-0 cuda-memcheck-10-1 cuda-memcheck-11-0 cuda-nsight-10-0\n",
            "  cuda-nsight-10-1 cuda-nsight-11-0 cuda-nsight-11-1 cuda-nsight-compute-10-0\n",
            "  cuda-nsight-compute-10-1 cuda-nsight-compute-11-0 cuda-nsight-compute-11-1\n",
            "  cuda-nsight-systems-10-1 cuda-nsight-systems-11-0 cuda-nsight-systems-11-1\n",
            "  cuda-nvcc-10-0 cuda-nvcc-10-1 cuda-nvcc-11-0 cuda-nvdisasm-10-0\n",
            "  cuda-nvdisasm-10-1 cuda-nvdisasm-11-0 cuda-nvml-dev-10-0 cuda-nvml-dev-10-1\n",
            "  cuda-nvml-dev-11-0 cuda-nvprof-10-0 cuda-nvprof-10-1 cuda-nvprof-11-0\n",
            "  cuda-nvprune-10-0 cuda-nvprune-10-1 cuda-nvprune-11-0 cuda-nvtx-10-0\n",
            "  cuda-nvtx-10-1 cuda-nvtx-11-0 cuda-nvvp-10-0 cuda-nvvp-10-1 cuda-nvvp-11-0\n",
            "  cuda-nvvp-11-1 cuda-samples-10-0 cuda-samples-10-1 cuda-samples-11-0\n",
            "  cuda-samples-11-1 cuda-sanitizer-11-0 cuda-sanitizer-api-10-1\n",
            "  cuda-toolkit-10-0 cuda-toolkit-10-1 cuda-toolkit-11-0 cuda-toolkit-11-1\n",
            "  cuda-tools-10-0 cuda-tools-10-1 cuda-tools-11-0 cuda-tools-11-1\n",
            "  cuda-visual-tools-10-0 cuda-visual-tools-10-1 cuda-visual-tools-11-0\n",
            "  cuda-visual-tools-11-1 default-jre dkms freeglut3 freeglut3-dev\n",
            "  keyboard-configuration libargon2-0 libcap2 libcryptsetup12\n",
            "  libdevmapper1.02.1 libfontenc1 libidn11 libip4tc0 libjansson4\n",
            "  libnvidia-cfg1-510 libnvidia-common-460 libnvidia-common-510\n",
            "  libnvidia-extra-510 libnvidia-fbc1-510 libnvidia-gl-510 libpam-systemd\n",
            "  libpolkit-agent-1-0 libpolkit-backend-1-0 libpolkit-gobject-1-0 libxfont2\n",
            "  libxi-dev libxkbfile1 libxmu-dev libxmu-headers libxnvctrl0\n",
            "  nsight-compute-2020.2.1 nsight-compute-2022.1.0 nsight-systems-2020.3.2\n",
            "  nsight-systems-2020.3.4 nsight-systems-2021.5.2 nvidia-dkms-510\n",
            "  nvidia-kernel-common-510 nvidia-kernel-source-510 nvidia-modprobe\n",
            "  nvidia-settings openjdk-11-jre policykit-1 policykit-1-gnome python3-xkit\n",
            "  screen-resolution-extra systemd systemd-sysv udev x11-xkb-utils\n",
            "  xserver-common xserver-xorg-core-hwe-18.04 xserver-xorg-video-nvidia-510\n",
            "Use 'apt autoremove' to remove them.\n",
            "The following additional packages will be installed:\n",
            "  chromium-browser-l10n chromium-codecs-ffmpeg-extra fonts-noto-hinted\n",
            "  fonts-noto-mono fonts-noto-unhinted\n",
            "Suggested packages:\n",
            "  webaccounts-chromium-extension unity-chromium-extension fonts-noto-cjk-extra\n",
            "The following NEW packages will be installed:\n",
            "  chromium-browser chromium-browser-l10n chromium-chromedriver\n",
            "  chromium-codecs-ffmpeg-extra fonts-noto fonts-noto-cjk fonts-noto-hinted\n",
            "  fonts-noto-mono fonts-noto-unhinted\n",
            "0 upgraded, 9 newly installed, 0 to remove and 62 not upgraded.\n",
            "Need to get 159 MB of archives.\n",
            "After this operation, 450 MB of additional disk space will be used.\n",
            "Get:1 http://archive.ubuntu.com/ubuntu bionic-updates/universe amd64 chromium-codecs-ffmpeg-extra amd64 97.0.4692.71-0ubuntu0.18.04.1 [1,142 kB]\n",
            "Get:2 http://archive.ubuntu.com/ubuntu bionic-updates/universe amd64 chromium-browser amd64 97.0.4692.71-0ubuntu0.18.04.1 [84.7 MB]\n",
            "Get:3 http://archive.ubuntu.com/ubuntu bionic-updates/universe amd64 chromium-browser-l10n all 97.0.4692.71-0ubuntu0.18.04.1 [4,370 kB]\n",
            "Get:4 http://archive.ubuntu.com/ubuntu bionic-updates/universe amd64 chromium-chromedriver amd64 97.0.4692.71-0ubuntu0.18.04.1 [5,055 kB]\n",
            "Get:5 http://archive.ubuntu.com/ubuntu bionic/universe amd64 fonts-noto-hinted all 20171026-2 [6,653 kB]\n",
            "Get:6 http://archive.ubuntu.com/ubuntu bionic/universe amd64 fonts-noto all 20171026-2 [4,136 B]\n",
            "Get:7 http://archive.ubuntu.com/ubuntu bionic-updates/main amd64 fonts-noto-cjk all 1:20190409+repack1-0ubuntu0.18.04 [55.7 MB]\n",
            "Get:8 http://archive.ubuntu.com/ubuntu bionic/main amd64 fonts-noto-mono all 20171026-2 [75.5 kB]\n",
            "Get:9 http://archive.ubuntu.com/ubuntu bionic/universe amd64 fonts-noto-unhinted all 20171026-2 [1,576 kB]\n",
            "Fetched 159 MB in 17s (9,639 kB/s)\n",
            "Selecting previously unselected package chromium-codecs-ffmpeg-extra.\n",
            "(Reading database ... 155113 files and directories currently installed.)\n",
            "Preparing to unpack .../0-chromium-codecs-ffmpeg-extra_97.0.4692.71-0ubuntu0.18.04.1_amd64.deb ...\n",
            "Unpacking chromium-codecs-ffmpeg-extra (97.0.4692.71-0ubuntu0.18.04.1) ...\n",
            "Selecting previously unselected package chromium-browser.\n",
            "Preparing to unpack .../1-chromium-browser_97.0.4692.71-0ubuntu0.18.04.1_amd64.deb ...\n",
            "Unpacking chromium-browser (97.0.4692.71-0ubuntu0.18.04.1) ...\n",
            "Selecting previously unselected package chromium-browser-l10n.\n",
            "Preparing to unpack .../2-chromium-browser-l10n_97.0.4692.71-0ubuntu0.18.04.1_all.deb ...\n",
            "Unpacking chromium-browser-l10n (97.0.4692.71-0ubuntu0.18.04.1) ...\n",
            "Selecting previously unselected package chromium-chromedriver.\n",
            "Preparing to unpack .../3-chromium-chromedriver_97.0.4692.71-0ubuntu0.18.04.1_amd64.deb ...\n",
            "Unpacking chromium-chromedriver (97.0.4692.71-0ubuntu0.18.04.1) ...\n",
            "Selecting previously unselected package fonts-noto-hinted.\n",
            "Preparing to unpack .../4-fonts-noto-hinted_20171026-2_all.deb ...\n",
            "Unpacking fonts-noto-hinted (20171026-2) ...\n",
            "Selecting previously unselected package fonts-noto.\n",
            "Preparing to unpack .../5-fonts-noto_20171026-2_all.deb ...\n",
            "Unpacking fonts-noto (20171026-2) ...\n",
            "Selecting previously unselected package fonts-noto-cjk.\n",
            "Preparing to unpack .../6-fonts-noto-cjk_1%3a20190409+repack1-0ubuntu0.18.04_all.deb ...\n",
            "Unpacking fonts-noto-cjk (1:20190409+repack1-0ubuntu0.18.04) ...\n",
            "Selecting previously unselected package fonts-noto-mono.\n",
            "Preparing to unpack .../7-fonts-noto-mono_20171026-2_all.deb ...\n",
            "Unpacking fonts-noto-mono (20171026-2) ...\n",
            "Selecting previously unselected package fonts-noto-unhinted.\n",
            "Preparing to unpack .../8-fonts-noto-unhinted_20171026-2_all.deb ...\n",
            "Unpacking fonts-noto-unhinted (20171026-2) ...\n",
            "Setting up fonts-noto-unhinted (20171026-2) ...\n",
            "Setting up fonts-noto-cjk (1:20190409+repack1-0ubuntu0.18.04) ...\n",
            "Setting up fonts-noto-mono (20171026-2) ...\n",
            "Setting up fonts-noto-hinted (20171026-2) ...\n",
            "Setting up chromium-codecs-ffmpeg-extra (97.0.4692.71-0ubuntu0.18.04.1) ...\n",
            "Setting up fonts-noto (20171026-2) ...\n",
            "Setting up chromium-browser (97.0.4692.71-0ubuntu0.18.04.1) ...\n",
            "update-alternatives: using /usr/bin/chromium-browser to provide /usr/bin/x-www-browser (x-www-browser) in auto mode\n",
            "update-alternatives: using /usr/bin/chromium-browser to provide /usr/bin/gnome-www-browser (gnome-www-browser) in auto mode\n",
            "Setting up chromium-chromedriver (97.0.4692.71-0ubuntu0.18.04.1) ...\n",
            "Setting up chromium-browser-l10n (97.0.4692.71-0ubuntu0.18.04.1) ...\n",
            "Processing triggers for man-db (2.8.3-2ubuntu0.1) ...\n",
            "Processing triggers for hicolor-icon-theme (0.17-2) ...\n",
            "Processing triggers for fontconfig (2.12.6-0ubuntu2) ...\n",
            "Processing triggers for mime-support (3.60ubuntu1) ...\n",
            "Processing triggers for libc-bin (2.27-3ubuntu1.3) ...\n",
            "/sbin/ldconfig.real: /usr/local/lib/python3.7/dist-packages/ideep4py/lib/libmkldnn.so.0 is not a symbolic link\n",
            "\n"
          ]
        }
      ]
    },
    {
      "cell_type": "code",
      "source": [
        "!pip install pyppeteer nest_asyncio"
      ],
      "metadata": {
        "colab": {
          "base_uri": "https://localhost:8080/",
          "height": 594
        },
        "id": "2U0vGOcLCVub",
        "outputId": "acddb7df-16fa-4d41-a5f9-fbeb69718eaf"
      },
      "execution_count": 5,
      "outputs": [
        {
          "output_type": "stream",
          "name": "stdout",
          "text": [
            "Collecting pyppeteer\n",
            "  Downloading pyppeteer-1.0.2-py3-none-any.whl (83 kB)\n",
            "\u001b[?25l\r\u001b[K     |████                            | 10 kB 25.0 MB/s eta 0:00:01\r\u001b[K     |███████▉                        | 20 kB 7.9 MB/s eta 0:00:01\r\u001b[K     |███████████▉                    | 30 kB 7.7 MB/s eta 0:00:01\r\u001b[K     |███████████████▊                | 40 kB 7.2 MB/s eta 0:00:01\r\u001b[K     |███████████████████▋            | 51 kB 4.4 MB/s eta 0:00:01\r\u001b[K     |███████████████████████▋        | 61 kB 4.5 MB/s eta 0:00:01\r\u001b[K     |███████████████████████████▌    | 71 kB 4.5 MB/s eta 0:00:01\r\u001b[K     |███████████████████████████████▍| 81 kB 5.1 MB/s eta 0:00:01\r\u001b[K     |████████████████████████████████| 83 kB 1.3 MB/s \n",
            "\u001b[?25hRequirement already satisfied: nest_asyncio in /usr/local/lib/python3.7/dist-packages (1.5.4)\n",
            "Requirement already satisfied: appdirs<2.0.0,>=1.4.3 in /usr/local/lib/python3.7/dist-packages (from pyppeteer) (1.4.4)\n",
            "Collecting urllib3<2.0.0,>=1.25.8\n",
            "  Downloading urllib3-1.26.8-py2.py3-none-any.whl (138 kB)\n",
            "\u001b[K     |████████████████████████████████| 138 kB 25.6 MB/s \n",
            "\u001b[?25hCollecting websockets<11.0,>=10.0\n",
            "  Downloading websockets-10.1-cp37-cp37m-manylinux_2_5_x86_64.manylinux1_x86_64.manylinux_2_12_x86_64.manylinux2010_x86_64.whl (111 kB)\n",
            "\u001b[K     |████████████████████████████████| 111 kB 55.6 MB/s \n",
            "\u001b[?25hRequirement already satisfied: tqdm<5.0.0,>=4.42.1 in /usr/local/lib/python3.7/dist-packages (from pyppeteer) (4.62.3)\n",
            "Collecting pyee<9.0.0,>=8.1.0\n",
            "  Downloading pyee-8.2.2-py2.py3-none-any.whl (12 kB)\n",
            "Requirement already satisfied: certifi>=2021 in /usr/local/lib/python3.7/dist-packages (from pyppeteer) (2021.10.8)\n",
            "Requirement already satisfied: importlib-metadata>=1.4 in /usr/local/lib/python3.7/dist-packages (from pyppeteer) (4.10.1)\n",
            "Requirement already satisfied: typing-extensions>=3.6.4 in /usr/local/lib/python3.7/dist-packages (from importlib-metadata>=1.4->pyppeteer) (3.10.0.2)\n",
            "Requirement already satisfied: zipp>=0.5 in /usr/local/lib/python3.7/dist-packages (from importlib-metadata>=1.4->pyppeteer) (3.7.0)\n",
            "Installing collected packages: websockets, urllib3, pyee, pyppeteer\n",
            "  Attempting uninstall: urllib3\n",
            "    Found existing installation: urllib3 1.24.3\n",
            "    Uninstalling urllib3-1.24.3:\n",
            "      Successfully uninstalled urllib3-1.24.3\n",
            "\u001b[31mERROR: pip's dependency resolver does not currently take into account all the packages that are installed. This behaviour is the source of the following dependency conflicts.\n",
            "requests 2.23.0 requires urllib3!=1.25.0,!=1.25.1,<1.26,>=1.21.1, but you have urllib3 1.26.8 which is incompatible.\n",
            "datascience 0.10.6 requires folium==0.2.1, but you have folium 0.8.3 which is incompatible.\u001b[0m\n",
            "Successfully installed pyee-8.2.2 pyppeteer-1.0.2 urllib3-1.26.8 websockets-10.1\n"
          ]
        },
        {
          "output_type": "display_data",
          "data": {
            "application/vnd.colab-display-data+json": {
              "pip_warning": {
                "packages": [
                  "urllib3"
                ]
              }
            }
          },
          "metadata": {}
        }
      ]
    },
    {
      "cell_type": "code",
      "source": [
        "import asyncio\n",
        "import nest_asyncio\n",
        "from pyppeteer import launch\n",
        "\n",
        "nest_asyncio.apply()"
      ],
      "metadata": {
        "id": "UxZdtLNqEkqL"
      },
      "execution_count": 1,
      "outputs": []
    },
    {
      "cell_type": "markdown",
      "source": [
        "Saving screenshot"
      ],
      "metadata": {
        "id": "szcvAoCYdHSG"
      }
    },
    {
      "cell_type": "code",
      "source": [
        "async def main():\n",
        "  browser = await launch({'executablePath':'/usr/bin/chromium-browser', 'headless': True, 'args':['--no-sandbox']})\n",
        "  page = await browser.newPage() # open a new browser window\n",
        "  await page.goto('https://www.mannings.com.hk/search?q=2&page=27') # goto the url\n",
        "  await page.screenshot({'path': 'example.png'}) # save screenshot as example.png\n",
        "  await browser.close() # close browser window\n",
        "\n",
        "asyncio.get_event_loop().run_until_complete(main())"
      ],
      "metadata": {
        "id": "tVcDHewidJ-g"
      },
      "execution_count": null,
      "outputs": []
    },
    {
      "cell_type": "code",
      "source": [
        "from google.colab.patches import cv2_imshow\n",
        "import cv2\n",
        "\n",
        "img = cv2.imread('example.png')\n",
        "cv2_imshow(img)"
      ],
      "metadata": {
        "colab": {
          "base_uri": "https://localhost:8080/",
          "height": 617
        },
        "id": "vspF3g9jeqRO",
        "outputId": "11d2b443-3f54-46ee-cb75-64d3cba46a89"
      },
      "execution_count": null,
      "outputs": [
        {
          "output_type": "display_data",
          "data": {
            "image/png": "[encoded data removed]",
            "text/plain": [
              "<PIL.Image.Image image mode=RGB size=800x600 at 0x7FAB9FAE4DD0>"
            ]
          },
          "metadata": {}
        }
      ]
    },
    {
      "cell_type": "markdown",
      "source": [
        "Getting text in a single element"
      ],
      "metadata": {
        "id": "8VPZ36A4c4EQ"
      }
    },
    {
      "cell_type": "code",
      "source": [
        "async def searchTotal():\n",
        "  browser = await launch({'executablePath':'/usr/bin/chromium-browser', 'headless': True, 'args':['--no-sandbox']})\n",
        "  page = await browser.newPage()\n",
        "  await page.goto('https://www.mannings.com.hk/search?q=2&page=0', { 'waitUntil':'networkidle0' })\n",
        "  await page.screenshot({'path': 'error.png'})\n",
        "  total = await page.Jeval('.pagination-bar-results b', 'function(node) { return node.textContent }')\n",
        "  print(total.strip())\n",
        "  await browser.close()"
      ],
      "metadata": {
        "id": "ySu2ZEohW-u6"
      },
      "execution_count": 7,
      "outputs": []
    },
    {
      "cell_type": "markdown",
      "source": [
        "To run `async` function, we need to pass the function into `asyncio.get_event_loop().run_until_complete`."
      ],
      "metadata": {
        "id": "QK7L5TBr_Kjr"
      }
    },
    {
      "cell_type": "code",
      "source": [
        "asyncio.get_event_loop().run_until_complete(searchTotal())"
      ],
      "metadata": {
        "colab": {
          "base_uri": "https://localhost:8080/"
        },
        "id": "EBYH8Uhy_Jem",
        "outputId": "622ed190-06f7-4aac-a904-562448010d1a"
      },
      "execution_count": null,
      "outputs": [
        {
          "output_type": "stream",
          "name": "stdout",
          "text": [
            "5,629 Product results found\n"
          ]
        }
      ]
    },
    {
      "cell_type": "markdown",
      "source": [
        "Wrapping up long code statement via function with simple name."
      ],
      "metadata": {
        "id": "kqfjyq3of8FM"
      }
    },
    {
      "cell_type": "code",
      "source": [
        "def run(func):\n",
        "  return asyncio.get_event_loop().run_until_complete(func)"
      ],
      "metadata": {
        "id": "-Vp1T65pfuPt"
      },
      "execution_count": 4,
      "outputs": []
    },
    {
      "cell_type": "code",
      "source": [
        "run(searchTotal())"
      ],
      "metadata": {
        "colab": {
          "base_uri": "https://localhost:8080/"
        },
        "id": "Qw2B2jPfgFKI",
        "outputId": "57d9b087-d48c-43ca-96bc-1775ebd266b2"
      },
      "execution_count": null,
      "outputs": [
        {
          "output_type": "stream",
          "name": "stdout",
          "text": [
            "5,629 Product results found\n"
          ]
        }
      ]
    },
    {
      "cell_type": "markdown",
      "source": [
        "Getting return value from `async` function with `asyncio.gather`. `asyncio.gather` allows multiple functions as input, thus it will return a list of return values of each function. "
      ],
      "metadata": {
        "id": "LgR5HVSpfBIQ"
      }
    },
    {
      "cell_type": "code",
      "source": [
        "def runAndReturn(func):\n",
        "  return asyncio.get_event_loop().run_until_complete(asyncio.gather(func))[0]"
      ],
      "metadata": {
        "id": "Sf63tA1Vgl2F"
      },
      "execution_count": 5,
      "outputs": []
    },
    {
      "cell_type": "code",
      "source": [
        "async def searchManningsTotal(keyword):\n",
        "  browser = await launch({'executablePath':'/usr/bin/chromium-browser', 'headless': True, 'args':['--no-sandbox']})\n",
        "  page = await browser.newPage()\n",
        "  await page.goto(f'https://www.mannings.com.hk/search?q={keyword}', { 'waitUntil':'networkidle0' })\n",
        "  total = int((await page.Jeval('.pagination-bar-results b', 'function(node) { return node.textContent }')).replace('Product results found','').replace(',',''))\n",
        "  await browser.close()\n",
        "  return total"
      ],
      "metadata": {
        "id": "0eNHolT1b1Of"
      },
      "execution_count": 6,
      "outputs": []
    },
    {
      "cell_type": "code",
      "source": [
        "total = runAndReturn(searchManningsTotal('2'))\n",
        "print(total)"
      ],
      "metadata": {
        "colab": {
          "base_uri": "https://localhost:8080/"
        },
        "id": "6NwXUONY_GnW",
        "outputId": "a84b0887-a4ea-4e3f-b8f6-6a53b146e87c"
      },
      "execution_count": 7,
      "outputs": [
        {
          "output_type": "stream",
          "name": "stdout",
          "text": [
            "5629\n"
          ]
        }
      ]
    },
    {
      "cell_type": "markdown",
      "source": [
        "Looping throught multiple elements with `page.JJ`."
      ],
      "metadata": {
        "id": "PwcV7OQDhgjS"
      }
    },
    {
      "cell_type": "code",
      "source": [
        "async def searchManningsWithPage(keyword, page):\n",
        "  browser = await launch({'executablePath':'/usr/bin/chromium-browser', 'headless': True, 'args':['--no-sandbox']})\n",
        "  context = await browser.createIncognitoBrowserContext() # create an incognito window\n",
        "  page = await context.newPage() # open a new tab in browser\n",
        "  await page.goto(f'https://www.mannings.com.hk/search?q={keyword}&page={page}', { 'waitUntil':'networkidle0' })\n",
        "  data = [{\n",
        "    'name': (await e.Jeval('.product_name','function(node) { return node.textContent }')).strip(),\n",
        "    'price': float((await e.Jeval('.price','function(node) { return node.textContent }')).strip().lstrip('$').replace(',',''))\n",
        "  } for e in await page.JJ('.product_content')]\n",
        "  await context.close()\n",
        "  await browser.close()\n",
        "  return pd.DataFrame(data)"
      ],
      "metadata": {
        "id": "cvkpqZhcXqnT"
      },
      "execution_count": 8,
      "outputs": []
    },
    {
      "cell_type": "code",
      "source": [
        "runAndReturn(searchManningsWithPage('2', 0))"
      ],
      "metadata": {
        "id": "SqWcXLXRFj1O",
        "colab": {
          "base_uri": "https://localhost:8080/",
          "height": 424
        },
        "outputId": "5a0bc187-a9d2-4325-eea2-0d775de6277b"
      },
      "execution_count": 9,
      "outputs": [
        {
          "output_type": "execute_result",
          "data": {
            "text/html": [
              "\n",
              "  <div id=\"df-742ad499-add5-48c0-a826-971b5e3cd2d4\">\n",
              "    <div class=\"colab-df-container\">\n",
              "      <div>\n",
              "<style scoped>\n",
              "    .dataframe tbody tr th:only-of-type {\n",
              "        vertical-align: middle;\n",
              "    }\n",
              "\n",
              "    .dataframe tbody tr th {\n",
              "        vertical-align: top;\n",
              "    }\n",
              "\n",
              "    .dataframe thead th {\n",
              "        text-align: right;\n",
              "    }\n",
              "</style>\n",
              "<table border=\"1\" class=\"dataframe\">\n",
              "  <thead>\n",
              "    <tr style=\"text-align: right;\">\n",
              "      <th></th>\n",
              "      <th>name</th>\n",
              "      <th>price</th>\n",
              "    </tr>\n",
              "  </thead>\n",
              "  <tbody>\n",
              "    <tr>\n",
              "      <th>0</th>\n",
              "      <td>Ange Orange Teether 1pc</td>\n",
              "      <td>88.0</td>\n",
              "    </tr>\n",
              "    <tr>\n",
              "      <th>1</th>\n",
              "      <td>Playtex Gentle Glide Tampon - Super Plus 18pcs</td>\n",
              "      <td>47.9</td>\n",
              "    </tr>\n",
              "    <tr>\n",
              "      <th>2</th>\n",
              "      <td>Illuma Organic Stage 2 850g</td>\n",
              "      <td>500.0</td>\n",
              "    </tr>\n",
              "    <tr>\n",
              "      <th>3</th>\n",
              "      <td>Aptamil Essensis HMO Stage 2 900g</td>\n",
              "      <td>528.0</td>\n",
              "    </tr>\n",
              "    <tr>\n",
              "      <th>4</th>\n",
              "      <td>Aptamil Essensis PHP Stage 2 900g</td>\n",
              "      <td>538.0</td>\n",
              "    </tr>\n",
              "    <tr>\n",
              "      <th>...</th>\n",
              "      <td>...</td>\n",
              "      <td>...</td>\n",
              "    </tr>\n",
              "    <tr>\n",
              "      <th>58</th>\n",
              "      <td>HiPP Organic Combiotic® HMP Toddler Milk Stage...</td>\n",
              "      <td>318.0</td>\n",
              "    </tr>\n",
              "    <tr>\n",
              "      <th>59</th>\n",
              "      <td>Nestlé® NAN® INFINIPRO® 1 Upgraded Formula 800g</td>\n",
              "      <td>438.0</td>\n",
              "    </tr>\n",
              "    <tr>\n",
              "      <th>60</th>\n",
              "      <td>Nestlé® NAN® INFINIPRO® 4 Upgraded Formula 800g</td>\n",
              "      <td>348.0</td>\n",
              "    </tr>\n",
              "    <tr>\n",
              "      <th>61</th>\n",
              "      <td>HiPP Organic Combiotic® HMP Infant Formula (st...</td>\n",
              "      <td>350.0</td>\n",
              "    </tr>\n",
              "    <tr>\n",
              "      <th>62</th>\n",
              "      <td>Abbott PediaSure 1+ Vanilla Flavor 850g</td>\n",
              "      <td>249.0</td>\n",
              "    </tr>\n",
              "  </tbody>\n",
              "</table>\n",
              "<p>63 rows × 2 columns</p>\n",
              "</div>\n",
              "      <button class=\"colab-df-convert\" onclick=\"convertToInteractive('df-742ad499-add5-48c0-a826-971b5e3cd2d4')\"\n",
              "              title=\"Convert this dataframe to an interactive table.\"\n",
              "              style=\"display:none;\">\n",
              "        \n",
              "  <svg xmlns=\"http://www.w3.org/2000/svg\" height=\"24px\"viewBox=\"0 0 24 24\"\n",
              "       width=\"24px\">\n",
              "    <path d=\"M0 0h24v24H0V0z\" fill=\"none\"/>\n",
              "    <path d=\"M18.56 5.44l.94 2.06.94-2.06 2.06-.94-2.06-.94-.94-2.06-.94 2.06-2.06.94zm-11 1L8.5 8.5l.94-2.06 2.06-.94-2.06-.94L8.5 2.5l-.94 2.06-2.06.94zm10 10l.94 2.06.94-2.06 2.06-.94-2.06-.94-.94-2.06-.94 2.06-2.06.94z\"/><path d=\"M17.41 7.96l-1.37-1.37c-.4-.4-.92-.59-1.43-.59-.52 0-1.04.2-1.43.59L10.3 9.45l-7.72 7.72c-.78.78-.78 2.05 0 2.83L4 21.41c.39.39.9.59 1.41.59.51 0 1.02-.2 1.41-.59l7.78-7.78 2.81-2.81c.8-.78.8-2.07 0-2.86zM5.41 20L4 18.59l7.72-7.72 1.47 1.35L5.41 20z\"/>\n",
              "  </svg>\n",
              "      </button>\n",
              "      \n",
              "  <style>\n",
              "    .colab-df-container {\n",
              "      display:flex;\n",
              "      flex-wrap:wrap;\n",
              "      gap: 12px;\n",
              "    }\n",
              "\n",
              "    .colab-df-convert {\n",
              "      background-color: #E8F0FE;\n",
              "      border: none;\n",
              "      border-radius: 50%;\n",
              "      cursor: pointer;\n",
              "      display: none;\n",
              "      fill: #1967D2;\n",
              "      height: 32px;\n",
              "      padding: 0 0 0 0;\n",
              "      width: 32px;\n",
              "    }\n",
              "\n",
              "    .colab-df-convert:hover {\n",
              "      background-color: #E2EBFA;\n",
              "      box-shadow: 0px 1px 2px rgba(60, 64, 67, 0.3), 0px 1px 3px 1px rgba(60, 64, 67, 0.15);\n",
              "      fill: #174EA6;\n",
              "    }\n",
              "\n",
              "    [theme=dark] .colab-df-convert {\n",
              "      background-color: #3B4455;\n",
              "      fill: #D2E3FC;\n",
              "    }\n",
              "\n",
              "    [theme=dark] .colab-df-convert:hover {\n",
              "      background-color: #434B5C;\n",
              "      box-shadow: 0px 1px 3px 1px rgba(0, 0, 0, 0.15);\n",
              "      filter: drop-shadow(0px 1px 2px rgba(0, 0, 0, 0.3));\n",
              "      fill: #FFFFFF;\n",
              "    }\n",
              "  </style>\n",
              "\n",
              "      <script>\n",
              "        const buttonEl =\n",
              "          document.querySelector('#df-742ad499-add5-48c0-a826-971b5e3cd2d4 button.colab-df-convert');\n",
              "        buttonEl.style.display =\n",
              "          google.colab.kernel.accessAllowed ? 'block' : 'none';\n",
              "\n",
              "        async function convertToInteractive(key) {\n",
              "          const element = document.querySelector('#df-742ad499-add5-48c0-a826-971b5e3cd2d4');\n",
              "          const dataTable =\n",
              "            await google.colab.kernel.invokeFunction('convertToInteractive',\n",
              "                                                     [key], {});\n",
              "          if (!dataTable) return;\n",
              "\n",
              "          const docLinkHtml = 'Like what you see? Visit the ' +\n",
              "            '<a target=\"_blank\" href=https://colab.research.google.com/notebooks/data_table.ipynb>data table notebook</a>'\n",
              "            + ' to learn more about interactive tables.';\n",
              "          element.innerHTML = '';\n",
              "          dataTable['output_type'] = 'display_data';\n",
              "          await google.colab.output.renderOutput(dataTable, element);\n",
              "          const docLink = document.createElement('div');\n",
              "          docLink.innerHTML = docLinkHtml;\n",
              "          element.appendChild(docLink);\n",
              "        }\n",
              "      </script>\n",
              "    </div>\n",
              "  </div>\n",
              "  "
            ],
            "text/plain": [
              "                                                 name  price\n",
              "0                             Ange Orange Teether 1pc   88.0\n",
              "1      Playtex Gentle Glide Tampon - Super Plus 18pcs   47.9\n",
              "2                         Illuma Organic Stage 2 850g  500.0\n",
              "3                   Aptamil Essensis HMO Stage 2 900g  528.0\n",
              "4                   Aptamil Essensis PHP Stage 2 900g  538.0\n",
              "..                                                ...    ...\n",
              "58  HiPP Organic Combiotic® HMP Toddler Milk Stage...  318.0\n",
              "59    Nestlé® NAN® INFINIPRO® 1 Upgraded Formula 800g  438.0\n",
              "60    Nestlé® NAN® INFINIPRO® 4 Upgraded Formula 800g  348.0\n",
              "61  HiPP Organic Combiotic® HMP Infant Formula (st...  350.0\n",
              "62            Abbott PediaSure 1+ Vanilla Flavor 850g  249.0\n",
              "\n",
              "[63 rows x 2 columns]"
            ]
          },
          "metadata": {},
          "execution_count": 9
        }
      ]
    },
    {
      "cell_type": "code",
      "source": [
        "manningsdf = pd.DataFrame(columns=['name', 'price'])"
      ],
      "metadata": {
        "id": "ROTvSff5cZ7e"
      },
      "execution_count": 11,
      "outputs": []
    },
    {
      "cell_type": "code",
      "source": [
        "from time import sleep\n",
        "\n",
        "pageSequence = [i for i in range(1, total // 63 + 1)] # generate a list of page numbers\n",
        "np.random.shuffle(pageSequence) # shuffle the list\n",
        "\n",
        "for i in tqdm(pageSequence):\n",
        "  data = runAndReturn(searchManningsWithPage('2', i))\n",
        "  manningsdf = manningsdf.append(data, ignore_index=True)\n",
        "  sleep(np.random.uniform(2, 5)) # perform a random delay from 2 to 9 second"
      ],
      "metadata": {
        "colab": {
          "base_uri": "https://localhost:8080/"
        },
        "id": "SGoQgqPDioj3",
        "outputId": "f2700795-6379-463e-f3c9-f029d37ef732"
      },
      "execution_count": null,
      "outputs": [
        {
          "output_type": "stream",
          "name": "stderr",
          "text": [
            " 78%|███████▊  | 69/89 [19:19<05:37, 16.87s/it]"
          ]
        }
      ]
    },
    {
      "cell_type": "code",
      "source": [
        "manningsdf"
      ],
      "metadata": {
        "colab": {
          "base_uri": "https://localhost:8080/",
          "height": 424
        },
        "id": "QWxaBiZ9jJtd",
        "outputId": "8902337d-ce2b-4f53-9b01-ec73aa5422eb"
      },
      "execution_count": 13,
      "outputs": [
        {
          "output_type": "execute_result",
          "data": {
            "text/html": [
              "\n",
              "  <div id=\"df-be4b5ed2-3687-48d0-9b2d-5a221372e7e9\">\n",
              "    <div class=\"colab-df-container\">\n",
              "      <div>\n",
              "<style scoped>\n",
              "    .dataframe tbody tr th:only-of-type {\n",
              "        vertical-align: middle;\n",
              "    }\n",
              "\n",
              "    .dataframe tbody tr th {\n",
              "        vertical-align: top;\n",
              "    }\n",
              "\n",
              "    .dataframe thead th {\n",
              "        text-align: right;\n",
              "    }\n",
              "</style>\n",
              "<table border=\"1\" class=\"dataframe\">\n",
              "  <thead>\n",
              "    <tr style=\"text-align: right;\">\n",
              "      <th></th>\n",
              "      <th>name</th>\n",
              "      <th>price</th>\n",
              "    </tr>\n",
              "  </thead>\n",
              "  <tbody>\n",
              "    <tr>\n",
              "      <th>0</th>\n",
              "      <td>Ange Orange Teether 1pc</td>\n",
              "      <td>88.0</td>\n",
              "    </tr>\n",
              "    <tr>\n",
              "      <th>1</th>\n",
              "      <td>Playtex Gentle Glide Tampon - Super Plus 18pcs</td>\n",
              "      <td>47.9</td>\n",
              "    </tr>\n",
              "    <tr>\n",
              "      <th>2</th>\n",
              "      <td>Illuma Organic Stage 2 850g</td>\n",
              "      <td>500.0</td>\n",
              "    </tr>\n",
              "    <tr>\n",
              "      <th>3</th>\n",
              "      <td>Aptamil Essensis HMO Stage 2 900g</td>\n",
              "      <td>528.0</td>\n",
              "    </tr>\n",
              "    <tr>\n",
              "      <th>4</th>\n",
              "      <td>Aptamil Essensis PHP Stage 2 900g</td>\n",
              "      <td>538.0</td>\n",
              "    </tr>\n",
              "    <tr>\n",
              "      <th>...</th>\n",
              "      <td>...</td>\n",
              "      <td>...</td>\n",
              "    </tr>\n",
              "    <tr>\n",
              "      <th>58</th>\n",
              "      <td>HiPP Organic Combiotic® HMP Toddler Milk Stage...</td>\n",
              "      <td>318.0</td>\n",
              "    </tr>\n",
              "    <tr>\n",
              "      <th>59</th>\n",
              "      <td>Nestlé® NAN® INFINIPRO® 1 Upgraded Formula 800g</td>\n",
              "      <td>438.0</td>\n",
              "    </tr>\n",
              "    <tr>\n",
              "      <th>60</th>\n",
              "      <td>Nestlé® NAN® INFINIPRO® 4 Upgraded Formula 800g</td>\n",
              "      <td>348.0</td>\n",
              "    </tr>\n",
              "    <tr>\n",
              "      <th>61</th>\n",
              "      <td>HiPP Organic Combiotic® HMP Infant Formula (st...</td>\n",
              "      <td>350.0</td>\n",
              "    </tr>\n",
              "    <tr>\n",
              "      <th>62</th>\n",
              "      <td>Abbott PediaSure 1+ Vanilla Flavor 850g</td>\n",
              "      <td>249.0</td>\n",
              "    </tr>\n",
              "  </tbody>\n",
              "</table>\n",
              "<p>2898 rows × 2 columns</p>\n",
              "</div>\n",
              "      <button class=\"colab-df-convert\" onclick=\"convertToInteractive('df-be4b5ed2-3687-48d0-9b2d-5a221372e7e9')\"\n",
              "              title=\"Convert this dataframe to an interactive table.\"\n",
              "              style=\"display:none;\">\n",
              "        \n",
              "  <svg xmlns=\"http://www.w3.org/2000/svg\" height=\"24px\"viewBox=\"0 0 24 24\"\n",
              "       width=\"24px\">\n",
              "    <path d=\"M0 0h24v24H0V0z\" fill=\"none\"/>\n",
              "    <path d=\"M18.56 5.44l.94 2.06.94-2.06 2.06-.94-2.06-.94-.94-2.06-.94 2.06-2.06.94zm-11 1L8.5 8.5l.94-2.06 2.06-.94-2.06-.94L8.5 2.5l-.94 2.06-2.06.94zm10 10l.94 2.06.94-2.06 2.06-.94-2.06-.94-.94-2.06-.94 2.06-2.06.94z\"/><path d=\"M17.41 7.96l-1.37-1.37c-.4-.4-.92-.59-1.43-.59-.52 0-1.04.2-1.43.59L10.3 9.45l-7.72 7.72c-.78.78-.78 2.05 0 2.83L4 21.41c.39.39.9.59 1.41.59.51 0 1.02-.2 1.41-.59l7.78-7.78 2.81-2.81c.8-.78.8-2.07 0-2.86zM5.41 20L4 18.59l7.72-7.72 1.47 1.35L5.41 20z\"/>\n",
              "  </svg>\n",
              "      </button>\n",
              "      \n",
              "  <style>\n",
              "    .colab-df-container {\n",
              "      display:flex;\n",
              "      flex-wrap:wrap;\n",
              "      gap: 12px;\n",
              "    }\n",
              "\n",
              "    .colab-df-convert {\n",
              "      background-color: #E8F0FE;\n",
              "      border: none;\n",
              "      border-radius: 50%;\n",
              "      cursor: pointer;\n",
              "      display: none;\n",
              "      fill: #1967D2;\n",
              "      height: 32px;\n",
              "      padding: 0 0 0 0;\n",
              "      width: 32px;\n",
              "    }\n",
              "\n",
              "    .colab-df-convert:hover {\n",
              "      background-color: #E2EBFA;\n",
              "      box-shadow: 0px 1px 2px rgba(60, 64, 67, 0.3), 0px 1px 3px 1px rgba(60, 64, 67, 0.15);\n",
              "      fill: #174EA6;\n",
              "    }\n",
              "\n",
              "    [theme=dark] .colab-df-convert {\n",
              "      background-color: #3B4455;\n",
              "      fill: #D2E3FC;\n",
              "    }\n",
              "\n",
              "    [theme=dark] .colab-df-convert:hover {\n",
              "      background-color: #434B5C;\n",
              "      box-shadow: 0px 1px 3px 1px rgba(0, 0, 0, 0.15);\n",
              "      filter: drop-shadow(0px 1px 2px rgba(0, 0, 0, 0.3));\n",
              "      fill: #FFFFFF;\n",
              "    }\n",
              "  </style>\n",
              "\n",
              "      <script>\n",
              "        const buttonEl =\n",
              "          document.querySelector('#df-be4b5ed2-3687-48d0-9b2d-5a221372e7e9 button.colab-df-convert');\n",
              "        buttonEl.style.display =\n",
              "          google.colab.kernel.accessAllowed ? 'block' : 'none';\n",
              "\n",
              "        async function convertToInteractive(key) {\n",
              "          const element = document.querySelector('#df-be4b5ed2-3687-48d0-9b2d-5a221372e7e9');\n",
              "          const dataTable =\n",
              "            await google.colab.kernel.invokeFunction('convertToInteractive',\n",
              "                                                     [key], {});\n",
              "          if (!dataTable) return;\n",
              "\n",
              "          const docLinkHtml = 'Like what you see? Visit the ' +\n",
              "            '<a target=\"_blank\" href=https://colab.research.google.com/notebooks/data_table.ipynb>data table notebook</a>'\n",
              "            + ' to learn more about interactive tables.';\n",
              "          element.innerHTML = '';\n",
              "          dataTable['output_type'] = 'display_data';\n",
              "          await google.colab.output.renderOutput(dataTable, element);\n",
              "          const docLink = document.createElement('div');\n",
              "          docLink.innerHTML = docLinkHtml;\n",
              "          element.appendChild(docLink);\n",
              "        }\n",
              "      </script>\n",
              "    </div>\n",
              "  </div>\n",
              "  "
            ],
            "text/plain": [
              "                                                 name  price\n",
              "0                             Ange Orange Teether 1pc   88.0\n",
              "1      Playtex Gentle Glide Tampon - Super Plus 18pcs   47.9\n",
              "2                         Illuma Organic Stage 2 850g  500.0\n",
              "3                   Aptamil Essensis HMO Stage 2 900g  528.0\n",
              "4                   Aptamil Essensis PHP Stage 2 900g  538.0\n",
              "..                                                ...    ...\n",
              "58  HiPP Organic Combiotic® HMP Toddler Milk Stage...  318.0\n",
              "59    Nestlé® NAN® INFINIPRO® 1 Upgraded Formula 800g  438.0\n",
              "60    Nestlé® NAN® INFINIPRO® 4 Upgraded Formula 800g  348.0\n",
              "61  HiPP Organic Combiotic® HMP Infant Formula (st...  350.0\n",
              "62            Abbott PediaSure 1+ Vanilla Flavor 850g  249.0\n",
              "\n",
              "[2898 rows x 2 columns]"
            ]
          },
          "metadata": {},
          "execution_count": 13
        }
      ]
    },
    {
      "cell_type": "markdown",
      "source": [
        "Make a backup first"
      ],
      "metadata": {
        "id": "in_-naYq_ZNQ"
      }
    },
    {
      "cell_type": "code",
      "source": [
        "manningsdf.to_csv('mannings.csv')"
      ],
      "metadata": {
        "id": "GuzMPU1l6u2l"
      },
      "execution_count": 73,
      "outputs": []
    },
    {
      "cell_type": "code",
      "source": [
        "!wget https://gist.githubusercontent.com/hkbu-kennycheng/8e719a45890bc9bcd47fa353598fcb1e/raw/8a7c3e74e327b47aa58dbccb3539660a276ac574/mannings.csv"
      ],
      "metadata": {
        "id": "PNtD1v-_laeo"
      },
      "execution_count": null,
      "outputs": []
    },
    {
      "cell_type": "code",
      "source": [
        "manningsdf = pd.read_csv('mannings.csv')"
      ],
      "metadata": {
        "id": "RiC2IODJlooE"
      },
      "execution_count": null,
      "outputs": []
    },
    {
      "cell_type": "markdown",
      "source": [
        "# Exercise"
      ],
      "metadata": {
        "id": "zep8oK6z4Cwy"
      }
    },
    {
      "cell_type": "markdown",
      "source": [
        "create a `source` colume in parknshap dataframe `df` with value `parknshop`"
      ],
      "metadata": {
        "id": "Hvup4DDLj6gP"
      }
    },
    {
      "cell_type": "code",
      "source": [
        ""
      ],
      "metadata": {
        "id": "5J_URl_cjImt"
      },
      "execution_count": 15,
      "outputs": []
    },
    {
      "cell_type": "markdown",
      "source": [
        "create a `source` colume in mannings dataframe `manningsdf` with value `mannings`"
      ],
      "metadata": {
        "id": "iz4mTKzikSaj"
      }
    },
    {
      "cell_type": "code",
      "source": [
        ""
      ],
      "metadata": {
        "id": "EwjTLpZ3kR2D"
      },
      "execution_count": 16,
      "outputs": []
    },
    {
      "cell_type": "markdown",
      "source": [
        "Merging Mannings data with parknshop data in a single `df`"
      ],
      "metadata": {
        "id": "4AgwFTEVj1qd"
      }
    },
    {
      "cell_type": "code",
      "source": [
        ""
      ],
      "metadata": {
        "colab": {
          "base_uri": "https://localhost:8080/",
          "height": 424
        },
        "id": "Z-nX41a5kf7B",
        "outputId": "64445355-dcf2-4ba6-f6c3-d9dec5d8f5ed"
      },
      "execution_count": 17,
      "outputs": [
        {
          "output_type": "execute_result",
          "data": {
            "text/html": [
              "\n",
              "  <div id=\"df-23e62e40-6057-42db-afc9-6731ecb572c7\">\n",
              "    <div class=\"colab-df-container\">\n",
              "      <div>\n",
              "<style scoped>\n",
              "    .dataframe tbody tr th:only-of-type {\n",
              "        vertical-align: middle;\n",
              "    }\n",
              "\n",
              "    .dataframe tbody tr th {\n",
              "        vertical-align: top;\n",
              "    }\n",
              "\n",
              "    .dataframe thead th {\n",
              "        text-align: right;\n",
              "    }\n",
              "</style>\n",
              "<table border=\"1\" class=\"dataframe\">\n",
              "  <thead>\n",
              "    <tr style=\"text-align: right;\">\n",
              "      <th></th>\n",
              "      <th>name</th>\n",
              "      <th>price</th>\n",
              "      <th>source</th>\n",
              "    </tr>\n",
              "  </thead>\n",
              "  <tbody>\n",
              "    <tr>\n",
              "      <th>0</th>\n",
              "      <td>9inch Plastic Plates-clear</td>\n",
              "      <td>20.9</td>\n",
              "      <td>parknshop</td>\n",
              "    </tr>\n",
              "    <tr>\n",
              "      <th>1</th>\n",
              "      <td>Select Brazilian Mid Joint Wing 2lb</td>\n",
              "      <td>50.9</td>\n",
              "      <td>parknshop</td>\n",
              "    </tr>\n",
              "    <tr>\n",
              "      <th>2</th>\n",
              "      <td>Mr Juicy 100% Orange Juice</td>\n",
              "      <td>20.5</td>\n",
              "      <td>parknshop</td>\n",
              "    </tr>\n",
              "    <tr>\n",
              "      <th>3</th>\n",
              "      <td>Distilled Water(random Pick)</td>\n",
              "      <td>5.5</td>\n",
              "      <td>parknshop</td>\n",
              "    </tr>\n",
              "    <tr>\n",
              "      <th>4</th>\n",
              "      <td>A4  Writing Pad</td>\n",
              "      <td>14.9</td>\n",
              "      <td>parknshop</td>\n",
              "    </tr>\n",
              "    <tr>\n",
              "      <th>...</th>\n",
              "      <td>...</td>\n",
              "      <td>...</td>\n",
              "      <td>...</td>\n",
              "    </tr>\n",
              "    <tr>\n",
              "      <th>16610</th>\n",
              "      <td>HiPP Organic Combiotic® HMP Toddler Milk Stage...</td>\n",
              "      <td>318.0</td>\n",
              "      <td>mannings</td>\n",
              "    </tr>\n",
              "    <tr>\n",
              "      <th>16611</th>\n",
              "      <td>Nestlé® NAN® INFINIPRO® 1 Upgraded Formula 800g</td>\n",
              "      <td>438.0</td>\n",
              "      <td>mannings</td>\n",
              "    </tr>\n",
              "    <tr>\n",
              "      <th>16612</th>\n",
              "      <td>Nestlé® NAN® INFINIPRO® 4 Upgraded Formula 800g</td>\n",
              "      <td>348.0</td>\n",
              "      <td>mannings</td>\n",
              "    </tr>\n",
              "    <tr>\n",
              "      <th>16613</th>\n",
              "      <td>HiPP Organic Combiotic® HMP Infant Formula (st...</td>\n",
              "      <td>350.0</td>\n",
              "      <td>mannings</td>\n",
              "    </tr>\n",
              "    <tr>\n",
              "      <th>16614</th>\n",
              "      <td>Abbott PediaSure 1+ Vanilla Flavor 850g</td>\n",
              "      <td>249.0</td>\n",
              "      <td>mannings</td>\n",
              "    </tr>\n",
              "  </tbody>\n",
              "</table>\n",
              "<p>16615 rows × 3 columns</p>\n",
              "</div>\n",
              "      <button class=\"colab-df-convert\" onclick=\"convertToInteractive('df-23e62e40-6057-42db-afc9-6731ecb572c7')\"\n",
              "              title=\"Convert this dataframe to an interactive table.\"\n",
              "              style=\"display:none;\">\n",
              "        \n",
              "  <svg xmlns=\"http://www.w3.org/2000/svg\" height=\"24px\"viewBox=\"0 0 24 24\"\n",
              "       width=\"24px\">\n",
              "    <path d=\"M0 0h24v24H0V0z\" fill=\"none\"/>\n",
              "    <path d=\"M18.56 5.44l.94 2.06.94-2.06 2.06-.94-2.06-.94-.94-2.06-.94 2.06-2.06.94zm-11 1L8.5 8.5l.94-2.06 2.06-.94-2.06-.94L8.5 2.5l-.94 2.06-2.06.94zm10 10l.94 2.06.94-2.06 2.06-.94-2.06-.94-.94-2.06-.94 2.06-2.06.94z\"/><path d=\"M17.41 7.96l-1.37-1.37c-.4-.4-.92-.59-1.43-.59-.52 0-1.04.2-1.43.59L10.3 9.45l-7.72 7.72c-.78.78-.78 2.05 0 2.83L4 21.41c.39.39.9.59 1.41.59.51 0 1.02-.2 1.41-.59l7.78-7.78 2.81-2.81c.8-.78.8-2.07 0-2.86zM5.41 20L4 18.59l7.72-7.72 1.47 1.35L5.41 20z\"/>\n",
              "  </svg>\n",
              "      </button>\n",
              "      \n",
              "  <style>\n",
              "    .colab-df-container {\n",
              "      display:flex;\n",
              "      flex-wrap:wrap;\n",
              "      gap: 12px;\n",
              "    }\n",
              "\n",
              "    .colab-df-convert {\n",
              "      background-color: #E8F0FE;\n",
              "      border: none;\n",
              "      border-radius: 50%;\n",
              "      cursor: pointer;\n",
              "      display: none;\n",
              "      fill: #1967D2;\n",
              "      height: 32px;\n",
              "      padding: 0 0 0 0;\n",
              "      width: 32px;\n",
              "    }\n",
              "\n",
              "    .colab-df-convert:hover {\n",
              "      background-color: #E2EBFA;\n",
              "      box-shadow: 0px 1px 2px rgba(60, 64, 67, 0.3), 0px 1px 3px 1px rgba(60, 64, 67, 0.15);\n",
              "      fill: #174EA6;\n",
              "    }\n",
              "\n",
              "    [theme=dark] .colab-df-convert {\n",
              "      background-color: #3B4455;\n",
              "      fill: #D2E3FC;\n",
              "    }\n",
              "\n",
              "    [theme=dark] .colab-df-convert:hover {\n",
              "      background-color: #434B5C;\n",
              "      box-shadow: 0px 1px 3px 1px rgba(0, 0, 0, 0.15);\n",
              "      filter: drop-shadow(0px 1px 2px rgba(0, 0, 0, 0.3));\n",
              "      fill: #FFFFFF;\n",
              "    }\n",
              "  </style>\n",
              "\n",
              "      <script>\n",
              "        const buttonEl =\n",
              "          document.querySelector('#df-23e62e40-6057-42db-afc9-6731ecb572c7 button.colab-df-convert');\n",
              "        buttonEl.style.display =\n",
              "          google.colab.kernel.accessAllowed ? 'block' : 'none';\n",
              "\n",
              "        async function convertToInteractive(key) {\n",
              "          const element = document.querySelector('#df-23e62e40-6057-42db-afc9-6731ecb572c7');\n",
              "          const dataTable =\n",
              "            await google.colab.kernel.invokeFunction('convertToInteractive',\n",
              "                                                     [key], {});\n",
              "          if (!dataTable) return;\n",
              "\n",
              "          const docLinkHtml = 'Like what you see? Visit the ' +\n",
              "            '<a target=\"_blank\" href=https://colab.research.google.com/notebooks/data_table.ipynb>data table notebook</a>'\n",
              "            + ' to learn more about interactive tables.';\n",
              "          element.innerHTML = '';\n",
              "          dataTable['output_type'] = 'display_data';\n",
              "          await google.colab.output.renderOutput(dataTable, element);\n",
              "          const docLink = document.createElement('div');\n",
              "          docLink.innerHTML = docLinkHtml;\n",
              "          element.appendChild(docLink);\n",
              "        }\n",
              "      </script>\n",
              "    </div>\n",
              "  </div>\n",
              "  "
            ],
            "text/plain": [
              "                                                    name  price     source\n",
              "0                             9inch Plastic Plates-clear   20.9  parknshop\n",
              "1                    Select Brazilian Mid Joint Wing 2lb   50.9  parknshop\n",
              "2                             Mr Juicy 100% Orange Juice   20.5  parknshop\n",
              "3                           Distilled Water(random Pick)    5.5  parknshop\n",
              "4                                        A4  Writing Pad   14.9  parknshop\n",
              "...                                                  ...    ...        ...\n",
              "16610  HiPP Organic Combiotic® HMP Toddler Milk Stage...  318.0   mannings\n",
              "16611    Nestlé® NAN® INFINIPRO® 1 Upgraded Formula 800g  438.0   mannings\n",
              "16612    Nestlé® NAN® INFINIPRO® 4 Upgraded Formula 800g  348.0   mannings\n",
              "16613  HiPP Organic Combiotic® HMP Infant Formula (st...  350.0   mannings\n",
              "16614            Abbott PediaSure 1+ Vanilla Flavor 850g  249.0   mannings\n",
              "\n",
              "[16615 rows x 3 columns]"
            ]
          },
          "metadata": {},
          "execution_count": 17
        }
      ]
    },
    {
      "cell_type": "markdown",
      "source": [
        "## Data visulization and feature extraction"
      ],
      "metadata": {
        "id": "eaJkTofsR0H9"
      }
    },
    {
      "cell_type": "code",
      "source": [
        "df[df['source'] == 'mannings'].count()"
      ],
      "metadata": {
        "colab": {
          "base_uri": "https://localhost:8080/"
        },
        "id": "bsN_Kr9OkrD0",
        "outputId": "9a7b4843-8bac-4d0a-ef87-a72cc5eb4afa"
      },
      "execution_count": 18,
      "outputs": [
        {
          "output_type": "execute_result",
          "data": {
            "text/plain": [
              "name      2898\n",
              "price     2898\n",
              "source    2898\n",
              "dtype: int64"
            ]
          },
          "metadata": {},
          "execution_count": 18
        }
      ]
    },
    {
      "cell_type": "code",
      "source": [
        "sns.displot(df, x=\"price\")"
      ],
      "metadata": {
        "colab": {
          "base_uri": "https://localhost:8080/",
          "height": 386
        },
        "id": "lShCFEWy8F4V",
        "outputId": "e283010a-6a85-49ba-c230-890c872f9037"
      },
      "execution_count": 19,
      "outputs": [
        {
          "output_type": "execute_result",
          "data": {
            "text/plain": [
              "<seaborn.axisgrid.FacetGrid at 0x7f7e461b9550>"
            ]
          },
          "metadata": {},
          "execution_count": 19
        },
        {
          "output_type": "display_data",
          "data": {
            "image/png": "[encoded data removed]",
            "text/plain": [
              "<Figure size 360x360 with 1 Axes>"
            ]
          },
          "metadata": {
            "needs_background": "light"
          }
        }
      ]
    },
    {
      "cell_type": "code",
      "source": [
        "sns.displot(df, x=\"price\", bins=[100, 200, 300, 400])"
      ],
      "metadata": {
        "colab": {
          "base_uri": "https://localhost:8080/",
          "height": 386
        },
        "id": "ftTpK1TO8nqE",
        "outputId": "90b1bfba-bd75-4bb2-8c5f-973110a2fdba"
      },
      "execution_count": 20,
      "outputs": [
        {
          "output_type": "execute_result",
          "data": {
            "text/plain": [
              "<seaborn.axisgrid.FacetGrid at 0x7f7e3d361c10>"
            ]
          },
          "metadata": {},
          "execution_count": 20
        },
        {
          "output_type": "display_data",
          "data": {
            "image/png": "[encoded data removed]",
            "text/plain": [
              "<Figure size 360x360 with 1 Axes>"
            ]
          },
          "metadata": {
            "needs_background": "light"
          }
        }
      ]
    },
    {
      "cell_type": "code",
      "source": [
        "sns.displot(df, x=\"price\", bins=[i for i in range(0, 500, 10)])"
      ],
      "metadata": {
        "colab": {
          "base_uri": "https://localhost:8080/",
          "height": 386
        },
        "id": "KShDet1u-Eqy",
        "outputId": "a5a07fc3-4598-4f94-f724-862f0c2c6f05"
      },
      "execution_count": 25,
      "outputs": [
        {
          "output_type": "execute_result",
          "data": {
            "text/plain": [
              "<seaborn.axisgrid.FacetGrid at 0x7f7e3cca7e90>"
            ]
          },
          "metadata": {},
          "execution_count": 25
        },
        {
          "output_type": "display_data",
          "data": {
            "image/png": "[encoded data removed]",
            "text/plain": [
              "<Figure size 360x360 with 1 Axes>"
            ]
          },
          "metadata": {
            "needs_background": "light"
          }
        }
      ]
    },
    {
      "cell_type": "markdown",
      "source": [
        "Price range"
      ],
      "metadata": {
        "id": "XpGfr59ySH7U"
      }
    },
    {
      "cell_type": "code",
      "source": [
        "bins = [i for i in range(0, 500, 10)]\n",
        "labels = [f'{i-10}-{i-0.01}' for i in range(10, 500, 10)]\n",
        "df['price_group10'] = pd.cut(df.price, bins, labels = labels,include_lowest = True)\n",
        "df"
      ],
      "metadata": {
        "id": "-rjdQRyryETy",
        "colab": {
          "base_uri": "https://localhost:8080/",
          "height": 424
        },
        "outputId": "c256f617-9de5-4bef-8f71-5eb6317e98d6"
      },
      "execution_count": 49,
      "outputs": [
        {
          "output_type": "execute_result",
          "data": {
            "text/html": [
              "\n",
              "  <div id=\"df-3bd9a58f-630b-468c-9e56-d33503747b48\">\n",
              "    <div class=\"colab-df-container\">\n",
              "      <div>\n",
              "<style scoped>\n",
              "    .dataframe tbody tr th:only-of-type {\n",
              "        vertical-align: middle;\n",
              "    }\n",
              "\n",
              "    .dataframe tbody tr th {\n",
              "        vertical-align: top;\n",
              "    }\n",
              "\n",
              "    .dataframe thead th {\n",
              "        text-align: right;\n",
              "    }\n",
              "</style>\n",
              "<table border=\"1\" class=\"dataframe\">\n",
              "  <thead>\n",
              "    <tr style=\"text-align: right;\">\n",
              "      <th></th>\n",
              "      <th>name</th>\n",
              "      <th>price</th>\n",
              "      <th>source</th>\n",
              "      <th>organic</th>\n",
              "      <th>price_group10</th>\n",
              "    </tr>\n",
              "  </thead>\n",
              "  <tbody>\n",
              "    <tr>\n",
              "      <th>0</th>\n",
              "      <td>9inch Plastic Plates-clear</td>\n",
              "      <td>20.9</td>\n",
              "      <td>parknshop</td>\n",
              "      <td>0</td>\n",
              "      <td>20-29.99</td>\n",
              "    </tr>\n",
              "    <tr>\n",
              "      <th>1</th>\n",
              "      <td>Select Brazilian Mid Joint Wing 2lb</td>\n",
              "      <td>50.9</td>\n",
              "      <td>parknshop</td>\n",
              "      <td>0</td>\n",
              "      <td>50-59.99</td>\n",
              "    </tr>\n",
              "    <tr>\n",
              "      <th>2</th>\n",
              "      <td>Mr Juicy 100% Orange Juice</td>\n",
              "      <td>20.5</td>\n",
              "      <td>parknshop</td>\n",
              "      <td>0</td>\n",
              "      <td>20-29.99</td>\n",
              "    </tr>\n",
              "    <tr>\n",
              "      <th>3</th>\n",
              "      <td>Distilled Water(random Pick)</td>\n",
              "      <td>5.5</td>\n",
              "      <td>parknshop</td>\n",
              "      <td>0</td>\n",
              "      <td>0-9.99</td>\n",
              "    </tr>\n",
              "    <tr>\n",
              "      <th>4</th>\n",
              "      <td>A4  Writing Pad</td>\n",
              "      <td>14.9</td>\n",
              "      <td>parknshop</td>\n",
              "      <td>0</td>\n",
              "      <td>10-19.99</td>\n",
              "    </tr>\n",
              "    <tr>\n",
              "      <th>...</th>\n",
              "      <td>...</td>\n",
              "      <td>...</td>\n",
              "      <td>...</td>\n",
              "      <td>...</td>\n",
              "      <td>...</td>\n",
              "    </tr>\n",
              "    <tr>\n",
              "      <th>16610</th>\n",
              "      <td>HiPP Organic Combiotic® HMP Toddler Milk Stage...</td>\n",
              "      <td>318.0</td>\n",
              "      <td>mannings</td>\n",
              "      <td>1</td>\n",
              "      <td>310-319.99</td>\n",
              "    </tr>\n",
              "    <tr>\n",
              "      <th>16611</th>\n",
              "      <td>Nestlé® NAN® INFINIPRO® 1 Upgraded Formula 800g</td>\n",
              "      <td>438.0</td>\n",
              "      <td>mannings</td>\n",
              "      <td>0</td>\n",
              "      <td>430-439.99</td>\n",
              "    </tr>\n",
              "    <tr>\n",
              "      <th>16612</th>\n",
              "      <td>Nestlé® NAN® INFINIPRO® 4 Upgraded Formula 800g</td>\n",
              "      <td>348.0</td>\n",
              "      <td>mannings</td>\n",
              "      <td>0</td>\n",
              "      <td>340-349.99</td>\n",
              "    </tr>\n",
              "    <tr>\n",
              "      <th>16613</th>\n",
              "      <td>HiPP Organic Combiotic® HMP Infant Formula (st...</td>\n",
              "      <td>350.0</td>\n",
              "      <td>mannings</td>\n",
              "      <td>1</td>\n",
              "      <td>340-349.99</td>\n",
              "    </tr>\n",
              "    <tr>\n",
              "      <th>16614</th>\n",
              "      <td>Abbott PediaSure 1+ Vanilla Flavor 850g</td>\n",
              "      <td>249.0</td>\n",
              "      <td>mannings</td>\n",
              "      <td>0</td>\n",
              "      <td>240-249.99</td>\n",
              "    </tr>\n",
              "  </tbody>\n",
              "</table>\n",
              "<p>16615 rows × 5 columns</p>\n",
              "</div>\n",
              "      <button class=\"colab-df-convert\" onclick=\"convertToInteractive('df-3bd9a58f-630b-468c-9e56-d33503747b48')\"\n",
              "              title=\"Convert this dataframe to an interactive table.\"\n",
              "              style=\"display:none;\">\n",
              "        \n",
              "  <svg xmlns=\"http://www.w3.org/2000/svg\" height=\"24px\"viewBox=\"0 0 24 24\"\n",
              "       width=\"24px\">\n",
              "    <path d=\"M0 0h24v24H0V0z\" fill=\"none\"/>\n",
              "    <path d=\"M18.56 5.44l.94 2.06.94-2.06 2.06-.94-2.06-.94-.94-2.06-.94 2.06-2.06.94zm-11 1L8.5 8.5l.94-2.06 2.06-.94-2.06-.94L8.5 2.5l-.94 2.06-2.06.94zm10 10l.94 2.06.94-2.06 2.06-.94-2.06-.94-.94-2.06-.94 2.06-2.06.94z\"/><path d=\"M17.41 7.96l-1.37-1.37c-.4-.4-.92-.59-1.43-.59-.52 0-1.04.2-1.43.59L10.3 9.45l-7.72 7.72c-.78.78-.78 2.05 0 2.83L4 21.41c.39.39.9.59 1.41.59.51 0 1.02-.2 1.41-.59l7.78-7.78 2.81-2.81c.8-.78.8-2.07 0-2.86zM5.41 20L4 18.59l7.72-7.72 1.47 1.35L5.41 20z\"/>\n",
              "  </svg>\n",
              "      </button>\n",
              "      \n",
              "  <style>\n",
              "    .colab-df-container {\n",
              "      display:flex;\n",
              "      flex-wrap:wrap;\n",
              "      gap: 12px;\n",
              "    }\n",
              "\n",
              "    .colab-df-convert {\n",
              "      background-color: #E8F0FE;\n",
              "      border: none;\n",
              "      border-radius: 50%;\n",
              "      cursor: pointer;\n",
              "      display: none;\n",
              "      fill: #1967D2;\n",
              "      height: 32px;\n",
              "      padding: 0 0 0 0;\n",
              "      width: 32px;\n",
              "    }\n",
              "\n",
              "    .colab-df-convert:hover {\n",
              "      background-color: #E2EBFA;\n",
              "      box-shadow: 0px 1px 2px rgba(60, 64, 67, 0.3), 0px 1px 3px 1px rgba(60, 64, 67, 0.15);\n",
              "      fill: #174EA6;\n",
              "    }\n",
              "\n",
              "    [theme=dark] .colab-df-convert {\n",
              "      background-color: #3B4455;\n",
              "      fill: #D2E3FC;\n",
              "    }\n",
              "\n",
              "    [theme=dark] .colab-df-convert:hover {\n",
              "      background-color: #434B5C;\n",
              "      box-shadow: 0px 1px 3px 1px rgba(0, 0, 0, 0.15);\n",
              "      filter: drop-shadow(0px 1px 2px rgba(0, 0, 0, 0.3));\n",
              "      fill: #FFFFFF;\n",
              "    }\n",
              "  </style>\n",
              "\n",
              "      <script>\n",
              "        const buttonEl =\n",
              "          document.querySelector('#df-3bd9a58f-630b-468c-9e56-d33503747b48 button.colab-df-convert');\n",
              "        buttonEl.style.display =\n",
              "          google.colab.kernel.accessAllowed ? 'block' : 'none';\n",
              "\n",
              "        async function convertToInteractive(key) {\n",
              "          const element = document.querySelector('#df-3bd9a58f-630b-468c-9e56-d33503747b48');\n",
              "          const dataTable =\n",
              "            await google.colab.kernel.invokeFunction('convertToInteractive',\n",
              "                                                     [key], {});\n",
              "          if (!dataTable) return;\n",
              "\n",
              "          const docLinkHtml = 'Like what you see? Visit the ' +\n",
              "            '<a target=\"_blank\" href=https://colab.research.google.com/notebooks/data_table.ipynb>data table notebook</a>'\n",
              "            + ' to learn more about interactive tables.';\n",
              "          element.innerHTML = '';\n",
              "          dataTable['output_type'] = 'display_data';\n",
              "          await google.colab.output.renderOutput(dataTable, element);\n",
              "          const docLink = document.createElement('div');\n",
              "          docLink.innerHTML = docLinkHtml;\n",
              "          element.appendChild(docLink);\n",
              "        }\n",
              "      </script>\n",
              "    </div>\n",
              "  </div>\n",
              "  "
            ],
            "text/plain": [
              "                                                    name  ...  price_group10\n",
              "0                             9inch Plastic Plates-clear  ...       20-29.99\n",
              "1                    Select Brazilian Mid Joint Wing 2lb  ...       50-59.99\n",
              "2                             Mr Juicy 100% Orange Juice  ...       20-29.99\n",
              "3                           Distilled Water(random Pick)  ...         0-9.99\n",
              "4                                        A4  Writing Pad  ...       10-19.99\n",
              "...                                                  ...  ...            ...\n",
              "16610  HiPP Organic Combiotic® HMP Toddler Milk Stage...  ...     310-319.99\n",
              "16611    Nestlé® NAN® INFINIPRO® 1 Upgraded Formula 800g  ...     430-439.99\n",
              "16612    Nestlé® NAN® INFINIPRO® 4 Upgraded Formula 800g  ...     340-349.99\n",
              "16613  HiPP Organic Combiotic® HMP Infant Formula (st...  ...     340-349.99\n",
              "16614            Abbott PediaSure 1+ Vanilla Flavor 850g  ...     240-249.99\n",
              "\n",
              "[16615 rows x 5 columns]"
            ]
          },
          "metadata": {},
          "execution_count": 49
        }
      ]
    },
    {
      "cell_type": "code",
      "source": [
        "bins = [i for i in range(0, 500, 100)]\n",
        "labels = [f'{i-100}-{i-0.01}' for i in range(100, 500, 100)]\n",
        "df['price_group100'] = pd.cut(df.price, bins, labels = labels,include_lowest = True)\n",
        "df"
      ],
      "metadata": {
        "colab": {
          "base_uri": "https://localhost:8080/",
          "height": 537
        },
        "id": "_o6klzTRzBT5",
        "outputId": "0fb64fdf-2fd3-47c6-da84-07b3f51614c1"
      },
      "execution_count": 50,
      "outputs": [
        {
          "output_type": "execute_result",
          "data": {
            "text/html": [
              "\n",
              "  <div id=\"df-8049a1ae-b9b5-49c7-9eb5-4affbf60f2cf\">\n",
              "    <div class=\"colab-df-container\">\n",
              "      <div>\n",
              "<style scoped>\n",
              "    .dataframe tbody tr th:only-of-type {\n",
              "        vertical-align: middle;\n",
              "    }\n",
              "\n",
              "    .dataframe tbody tr th {\n",
              "        vertical-align: top;\n",
              "    }\n",
              "\n",
              "    .dataframe thead th {\n",
              "        text-align: right;\n",
              "    }\n",
              "</style>\n",
              "<table border=\"1\" class=\"dataframe\">\n",
              "  <thead>\n",
              "    <tr style=\"text-align: right;\">\n",
              "      <th></th>\n",
              "      <th>name</th>\n",
              "      <th>price</th>\n",
              "      <th>source</th>\n",
              "      <th>organic</th>\n",
              "      <th>price_group10</th>\n",
              "      <th>price_group100</th>\n",
              "    </tr>\n",
              "  </thead>\n",
              "  <tbody>\n",
              "    <tr>\n",
              "      <th>0</th>\n",
              "      <td>9inch Plastic Plates-clear</td>\n",
              "      <td>20.9</td>\n",
              "      <td>parknshop</td>\n",
              "      <td>0</td>\n",
              "      <td>20-29.99</td>\n",
              "      <td>0-99.99</td>\n",
              "    </tr>\n",
              "    <tr>\n",
              "      <th>1</th>\n",
              "      <td>Select Brazilian Mid Joint Wing 2lb</td>\n",
              "      <td>50.9</td>\n",
              "      <td>parknshop</td>\n",
              "      <td>0</td>\n",
              "      <td>50-59.99</td>\n",
              "      <td>0-99.99</td>\n",
              "    </tr>\n",
              "    <tr>\n",
              "      <th>2</th>\n",
              "      <td>Mr Juicy 100% Orange Juice</td>\n",
              "      <td>20.5</td>\n",
              "      <td>parknshop</td>\n",
              "      <td>0</td>\n",
              "      <td>20-29.99</td>\n",
              "      <td>0-99.99</td>\n",
              "    </tr>\n",
              "    <tr>\n",
              "      <th>3</th>\n",
              "      <td>Distilled Water(random Pick)</td>\n",
              "      <td>5.5</td>\n",
              "      <td>parknshop</td>\n",
              "      <td>0</td>\n",
              "      <td>0-9.99</td>\n",
              "      <td>0-99.99</td>\n",
              "    </tr>\n",
              "    <tr>\n",
              "      <th>4</th>\n",
              "      <td>A4  Writing Pad</td>\n",
              "      <td>14.9</td>\n",
              "      <td>parknshop</td>\n",
              "      <td>0</td>\n",
              "      <td>10-19.99</td>\n",
              "      <td>0-99.99</td>\n",
              "    </tr>\n",
              "    <tr>\n",
              "      <th>...</th>\n",
              "      <td>...</td>\n",
              "      <td>...</td>\n",
              "      <td>...</td>\n",
              "      <td>...</td>\n",
              "      <td>...</td>\n",
              "      <td>...</td>\n",
              "    </tr>\n",
              "    <tr>\n",
              "      <th>16610</th>\n",
              "      <td>HiPP Organic Combiotic® HMP Toddler Milk Stage...</td>\n",
              "      <td>318.0</td>\n",
              "      <td>mannings</td>\n",
              "      <td>1</td>\n",
              "      <td>310-319.99</td>\n",
              "      <td>300-399.99</td>\n",
              "    </tr>\n",
              "    <tr>\n",
              "      <th>16611</th>\n",
              "      <td>Nestlé® NAN® INFINIPRO® 1 Upgraded Formula 800g</td>\n",
              "      <td>438.0</td>\n",
              "      <td>mannings</td>\n",
              "      <td>0</td>\n",
              "      <td>430-439.99</td>\n",
              "      <td>NaN</td>\n",
              "    </tr>\n",
              "    <tr>\n",
              "      <th>16612</th>\n",
              "      <td>Nestlé® NAN® INFINIPRO® 4 Upgraded Formula 800g</td>\n",
              "      <td>348.0</td>\n",
              "      <td>mannings</td>\n",
              "      <td>0</td>\n",
              "      <td>340-349.99</td>\n",
              "      <td>300-399.99</td>\n",
              "    </tr>\n",
              "    <tr>\n",
              "      <th>16613</th>\n",
              "      <td>HiPP Organic Combiotic® HMP Infant Formula (st...</td>\n",
              "      <td>350.0</td>\n",
              "      <td>mannings</td>\n",
              "      <td>1</td>\n",
              "      <td>340-349.99</td>\n",
              "      <td>300-399.99</td>\n",
              "    </tr>\n",
              "    <tr>\n",
              "      <th>16614</th>\n",
              "      <td>Abbott PediaSure 1+ Vanilla Flavor 850g</td>\n",
              "      <td>249.0</td>\n",
              "      <td>mannings</td>\n",
              "      <td>0</td>\n",
              "      <td>240-249.99</td>\n",
              "      <td>200-299.99</td>\n",
              "    </tr>\n",
              "  </tbody>\n",
              "</table>\n",
              "<p>16615 rows × 6 columns</p>\n",
              "</div>\n",
              "      <button class=\"colab-df-convert\" onclick=\"convertToInteractive('df-8049a1ae-b9b5-49c7-9eb5-4affbf60f2cf')\"\n",
              "              title=\"Convert this dataframe to an interactive table.\"\n",
              "              style=\"display:none;\">\n",
              "        \n",
              "  <svg xmlns=\"http://www.w3.org/2000/svg\" height=\"24px\"viewBox=\"0 0 24 24\"\n",
              "       width=\"24px\">\n",
              "    <path d=\"M0 0h24v24H0V0z\" fill=\"none\"/>\n",
              "    <path d=\"M18.56 5.44l.94 2.06.94-2.06 2.06-.94-2.06-.94-.94-2.06-.94 2.06-2.06.94zm-11 1L8.5 8.5l.94-2.06 2.06-.94-2.06-.94L8.5 2.5l-.94 2.06-2.06.94zm10 10l.94 2.06.94-2.06 2.06-.94-2.06-.94-.94-2.06-.94 2.06-2.06.94z\"/><path d=\"M17.41 7.96l-1.37-1.37c-.4-.4-.92-.59-1.43-.59-.52 0-1.04.2-1.43.59L10.3 9.45l-7.72 7.72c-.78.78-.78 2.05 0 2.83L4 21.41c.39.39.9.59 1.41.59.51 0 1.02-.2 1.41-.59l7.78-7.78 2.81-2.81c.8-.78.8-2.07 0-2.86zM5.41 20L4 18.59l7.72-7.72 1.47 1.35L5.41 20z\"/>\n",
              "  </svg>\n",
              "      </button>\n",
              "      \n",
              "  <style>\n",
              "    .colab-df-container {\n",
              "      display:flex;\n",
              "      flex-wrap:wrap;\n",
              "      gap: 12px;\n",
              "    }\n",
              "\n",
              "    .colab-df-convert {\n",
              "      background-color: #E8F0FE;\n",
              "      border: none;\n",
              "      border-radius: 50%;\n",
              "      cursor: pointer;\n",
              "      display: none;\n",
              "      fill: #1967D2;\n",
              "      height: 32px;\n",
              "      padding: 0 0 0 0;\n",
              "      width: 32px;\n",
              "    }\n",
              "\n",
              "    .colab-df-convert:hover {\n",
              "      background-color: #E2EBFA;\n",
              "      box-shadow: 0px 1px 2px rgba(60, 64, 67, 0.3), 0px 1px 3px 1px rgba(60, 64, 67, 0.15);\n",
              "      fill: #174EA6;\n",
              "    }\n",
              "\n",
              "    [theme=dark] .colab-df-convert {\n",
              "      background-color: #3B4455;\n",
              "      fill: #D2E3FC;\n",
              "    }\n",
              "\n",
              "    [theme=dark] .colab-df-convert:hover {\n",
              "      background-color: #434B5C;\n",
              "      box-shadow: 0px 1px 3px 1px rgba(0, 0, 0, 0.15);\n",
              "      filter: drop-shadow(0px 1px 2px rgba(0, 0, 0, 0.3));\n",
              "      fill: #FFFFFF;\n",
              "    }\n",
              "  </style>\n",
              "\n",
              "      <script>\n",
              "        const buttonEl =\n",
              "          document.querySelector('#df-8049a1ae-b9b5-49c7-9eb5-4affbf60f2cf button.colab-df-convert');\n",
              "        buttonEl.style.display =\n",
              "          google.colab.kernel.accessAllowed ? 'block' : 'none';\n",
              "\n",
              "        async function convertToInteractive(key) {\n",
              "          const element = document.querySelector('#df-8049a1ae-b9b5-49c7-9eb5-4affbf60f2cf');\n",
              "          const dataTable =\n",
              "            await google.colab.kernel.invokeFunction('convertToInteractive',\n",
              "                                                     [key], {});\n",
              "          if (!dataTable) return;\n",
              "\n",
              "          const docLinkHtml = 'Like what you see? Visit the ' +\n",
              "            '<a target=\"_blank\" href=https://colab.research.google.com/notebooks/data_table.ipynb>data table notebook</a>'\n",
              "            + ' to learn more about interactive tables.';\n",
              "          element.innerHTML = '';\n",
              "          dataTable['output_type'] = 'display_data';\n",
              "          await google.colab.output.renderOutput(dataTable, element);\n",
              "          const docLink = document.createElement('div');\n",
              "          docLink.innerHTML = docLinkHtml;\n",
              "          element.appendChild(docLink);\n",
              "        }\n",
              "      </script>\n",
              "    </div>\n",
              "  </div>\n",
              "  "
            ],
            "text/plain": [
              "                                                    name  ...  price_group100\n",
              "0                             9inch Plastic Plates-clear  ...         0-99.99\n",
              "1                    Select Brazilian Mid Joint Wing 2lb  ...         0-99.99\n",
              "2                             Mr Juicy 100% Orange Juice  ...         0-99.99\n",
              "3                           Distilled Water(random Pick)  ...         0-99.99\n",
              "4                                        A4  Writing Pad  ...         0-99.99\n",
              "...                                                  ...  ...             ...\n",
              "16610  HiPP Organic Combiotic® HMP Toddler Milk Stage...  ...      300-399.99\n",
              "16611    Nestlé® NAN® INFINIPRO® 1 Upgraded Formula 800g  ...             NaN\n",
              "16612    Nestlé® NAN® INFINIPRO® 4 Upgraded Formula 800g  ...      300-399.99\n",
              "16613  HiPP Organic Combiotic® HMP Infant Formula (st...  ...      300-399.99\n",
              "16614            Abbott PediaSure 1+ Vanilla Flavor 850g  ...      200-299.99\n",
              "\n",
              "[16615 rows x 6 columns]"
            ]
          },
          "metadata": {},
          "execution_count": 50
        }
      ]
    },
    {
      "cell_type": "code",
      "source": [
        "sns.countplot(x='price_group100', hue='source', data=df)"
      ],
      "metadata": {
        "id": "avOW9mLN-gN5",
        "colab": {
          "base_uri": "https://localhost:8080/",
          "height": 297
        },
        "outputId": "0eaf78ac-d48e-47db-f882-cbda6fb9c822"
      },
      "execution_count": 51,
      "outputs": [
        {
          "output_type": "execute_result",
          "data": {
            "text/plain": [
              "<matplotlib.axes._subplots.AxesSubplot at 0x7f7e37fd0b10>"
            ]
          },
          "metadata": {},
          "execution_count": 51
        },
        {
          "output_type": "display_data",
          "data": {
            "image/png": "[encoded data removed]",
            "text/plain": [
              "<Figure size 432x288 with 1 Axes>"
            ]
          },
          "metadata": {
            "needs_background": "light"
          }
        }
      ]
    },
    {
      "cell_type": "code",
      "source": [
        "sns.countplot(x='price_group10', hue='source', data=df)"
      ],
      "metadata": {
        "colab": {
          "base_uri": "https://localhost:8080/",
          "height": 297
        },
        "id": "tWMoetdLzZX5",
        "outputId": "8742ea7d-6b88-4e7b-c861-2652334cc114"
      },
      "execution_count": 52,
      "outputs": [
        {
          "output_type": "execute_result",
          "data": {
            "text/plain": [
              "<matplotlib.axes._subplots.AxesSubplot at 0x7f7e37e39490>"
            ]
          },
          "metadata": {},
          "execution_count": 52
        },
        {
          "output_type": "display_data",
          "data": {
            "image/png": "[encoded data removed]",
            "text/plain": [
              "<Figure size 432x288 with 1 Axes>"
            ]
          },
          "metadata": {
            "needs_background": "light"
          }
        }
      ]
    },
    {
      "cell_type": "code",
      "source": [
        "df['price_cent'] = df['price'] - np.floor(df['price'])\n",
        "df['price_cent'] = np.floor(df['price_cent'] * 10)\n"
      ],
      "metadata": {
        "id": "zFiZt4Xg0liJ"
      },
      "execution_count": 63,
      "outputs": []
    },
    {
      "cell_type": "code",
      "source": [
        "sns.histplot(df, x='price_group100', hue='price_cent', stat='count', binwidth=1, multiple='stack')"
      ],
      "metadata": {
        "colab": {
          "base_uri": "https://localhost:8080/",
          "height": 297
        },
        "id": "e8E9L9bbxVqz",
        "outputId": "d2f8e1e4-d3bd-4bba-b7b1-7867f4bbbbd6"
      },
      "execution_count": 65,
      "outputs": [
        {
          "output_type": "execute_result",
          "data": {
            "text/plain": [
              "<matplotlib.axes._subplots.AxesSubplot at 0x7f7dc51856d0>"
            ]
          },
          "metadata": {},
          "execution_count": 65
        },
        {
          "output_type": "display_data",
          "data": {
            "image/png": "[encoded data removed]",
            "text/plain": [
              "<Figure size 432x288 with 1 Axes>"
            ]
          },
          "metadata": {
            "needs_background": "light"
          }
        }
      ]
    },
    {
      "cell_type": "code",
      "source": [
        "sns.set(rc={'figure.figsize':(20,10)})\n",
        "sns.displot(df, x='price_cent', hue='price_group100', kind='kde', bw_adjust=2, multiple='stack')"
      ],
      "metadata": {
        "colab": {
          "base_uri": "https://localhost:8080/",
          "height": 382
        },
        "id": "L-CawRCd8Q7m",
        "outputId": "cd843041-5e4b-403e-98bb-f8ffcea3f832"
      },
      "execution_count": 72,
      "outputs": [
        {
          "output_type": "execute_result",
          "data": {
            "text/plain": [
              "<seaborn.axisgrid.FacetGrid at 0x7f7dacfc3c90>"
            ]
          },
          "metadata": {},
          "execution_count": 72
        },
        {
          "output_type": "display_data",
          "data": {
            "image/png": "[encoded data removed]",
            "text/plain": [
              "<Figure size 462.975x360 with 1 Axes>"
            ]
          },
          "metadata": {}
        }
      ]
    },
    {
      "cell_type": "markdown",
      "source": [
        "Organic"
      ],
      "metadata": {
        "id": "ND_9q-ABo5EQ"
      }
    },
    {
      "cell_type": "code",
      "source": [
        "df['organic'] = df['name'].str.lower()\n",
        "df['organic'] = df['organic'].str.count('organic')\n",
        "df['organic'] = df['organic'].clip(0, 1)\n",
        "df['organic'].describe()"
      ],
      "metadata": {
        "colab": {
          "base_uri": "https://localhost:8080/"
        },
        "id": "-yt5sGyyo4eR",
        "outputId": "bbc9604b-d034-48e3-aed9-65287c6874a8"
      },
      "execution_count": 57,
      "outputs": [
        {
          "output_type": "execute_result",
          "data": {
            "text/plain": [
              "count    16615.000000\n",
              "mean         0.050737\n",
              "std          0.219467\n",
              "min          0.000000\n",
              "25%          0.000000\n",
              "50%          0.000000\n",
              "75%          0.000000\n",
              "max          1.000000\n",
              "Name: organic, dtype: float64"
            ]
          },
          "metadata": {},
          "execution_count": 57
        }
      ]
    },
    {
      "cell_type": "code",
      "source": [
        ""
      ],
      "metadata": {
        "id": "KNwrhBCmxw4w"
      },
      "execution_count": null,
      "outputs": []
    }
  ]
}