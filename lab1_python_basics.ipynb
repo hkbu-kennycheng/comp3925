{
  "nbformat": 4,
  "nbformat_minor": 0,
  "metadata": {
    "colab": {
      "name": "lab1 python basics.ipynb",
      "provenance": [],
      "collapsed_sections": [],
      "toc_visible": true,
      "mount_file_id": "1TXVA0ifkDhIlrVaBSBYwbYgt1P44lTUx",
      "authorship_tag": "ABX9TyNZFYm6dw6IjY+MmIejpatx",
      "include_colab_link": true
    },
    "kernelspec": {
      "name": "python3",
      "display_name": "Python 3"
    },
    "language_info": {
      "name": "python"
    }
  },
  "cells": [
    {
      "cell_type": "markdown",
      "metadata": {
        "id": "view-in-github",
        "colab_type": "text"
      },
      "source": [
        "<a href=\"https://colab.research.google.com/github/hkbu-kennycheng/comp3925/blob/main/lab1_python_basics.ipynb\" target=\"_parent\"><img src=\"https://colab.research.google.com/assets/colab-badge.svg\" alt=\"Open In Colab\"/></a>"
      ]
    },
    {
      "cell_type": "markdown",
      "source": [
        "# Lab1 Python Basics (with Google Colab)\n",
        "\n",
        "---"
      ],
      "metadata": {
        "id": "6Vea8eINlyPe"
      }
    },
    {
      "cell_type": "markdown",
      "source": [
        "# Python notebook and Google Colab"
      ],
      "metadata": {
        "id": "PwtT5pEDo98t"
      }
    },
    {
      "cell_type": "markdown",
      "source": [
        "## Concept of a notebook document, two types of cell\n",
        "\n",
        "A Jupyter notebook document can be divided into many cells, consisting of **markdown cell** and **code cell**."
      ],
      "metadata": {
        "id": "fTERTNo-qKlW"
      }
    },
    {
      "cell_type": "markdown",
      "source": [
        "### Mardown"
      ],
      "metadata": {
        "id": "Jl2UUNzRxgvW"
      }
    },
    {
      "cell_type": "markdown",
      "source": [
        "Let's look at a markdown cell example in order to understand effect of some common markdown symbols.\n",
        "\n",
        "```markdown\n",
        "# Heading 1 : Paragraph\n",
        "\n",
        "**bold**  *italic* `code` Lorem ipsum dolor sit amet, consectetur adipiscing elit, sed do eiusmod tempor incididunt ut labore et dolore magna aliqua. Porta nibh venenatis cras sed felis eget. Vulputate mi sit amet mauris commodo quis imperdiet. Est pellentesque elit ullamcorper dignissim cras tincidunt. Euismod lacinia at quis risus sed vulputate odio ut. Sed cras ornare arcu dui. Feugiat sed lectus vestibulum mattis ullamcorper velit sed. Quam vulputate dignissim suspendisse in est ante in nibh. Porta non pulvinar neque laoreet suspendisse interdum consectetur. Urna porttitor rhoncus dolor purus non enim praesent. Tellus pellentesque eu tincidunt tortor aliquam nulla facilisi cras fermentum. Sed tempus urna et pharetra pharetra massa. Feugiat sed lectus vestibulum mattis ullamcorper. Euismod in pellentesque massa placerat duis ultricies.\n",
        "\n",
        "## Heading 2 : Lists\n",
        "\n",
        "Ordered and unordered list:\n",
        "1. item a\n",
        "2. item b\n",
        "  - point c\n",
        "  - point d\n",
        "  - point e\n",
        "3. point f\n",
        "\n",
        "### Heading 3 : table\n",
        "\n",
        "|title1|title2|title3|\n",
        "|------|------|------|\n",
        "|item 1|item 2|item 3|\n",
        "|item 1|item 2|item 3|\n",
        "|item 1|item 2|item 3|\n",
        "```"
      ],
      "metadata": {
        "id": "2Dy8YN1QpAcO"
      }
    },
    {
      "cell_type": "markdown",
      "source": [
        "# Heading 1 : Paragraph\n",
        "\n",
        "**bold**  *italic* `code` Lorem ipsum dolor sit amet, consectetur adipiscing elit, sed do eiusmod tempor incididunt ut labore et dolore magna aliqua. Porta nibh venenatis cras sed felis eget. Vulputate mi sit amet mauris commodo quis imperdiet. Est pellentesque elit ullamcorper dignissim cras tincidunt. Euismod lacinia at quis risus sed vulputate odio ut. Sed cras ornare arcu dui. Feugiat sed lectus vestibulum mattis ullamcorper velit sed. Quam vulputate dignissim suspendisse in est ante in nibh. Porta non pulvinar neque laoreet suspendisse interdum consectetur. Urna porttitor rhoncus dolor purus non enim praesent. Tellus pellentesque eu tincidunt tortor aliquam nulla facilisi cras fermentum. Sed tempus urna et pharetra pharetra massa. Feugiat sed lectus vestibulum mattis ullamcorper. Euismod in pellentesque massa placerat duis ultricies.\n",
        "\n",
        "## Heading 2 : Lists\n",
        "\n",
        "Ordered and unordered list:\n",
        "1. item a\n",
        "2. item b\n",
        "  - point c\n",
        "  - point d\n",
        "  - point e\n",
        "3. point f\n",
        "\n",
        "### Heading 3 : table\n",
        "\n",
        "|title1|title2|title3|\n",
        "|------|------|------|\n",
        "|item 1|item 2|item 3|\n",
        "|item 1|item 2|item 3|\n",
        "|item 1|item 2|item 3|"
      ],
      "metadata": {
        "id": "Uu8VpFEGqG9G"
      }
    },
    {
      "cell_type": "markdown",
      "source": [
        "### Code cell and Forms\n",
        "\n",
        "Code cell is the block to run Python code. You could press `Shift+Enter` key to run a code cell. In fact Google Colab can do more, it let us to annotate **variable delcaration** statement as a form input with **comment syntax**. `# text after # is comment, Python will not execute it.` in Python. It then show the corresponding input control on the right side.\n",
        "\n",
        "Let's add some input in the below cells via **`Insert` → `Add a form field`**."
      ],
      "metadata": {
        "id": "mUtNi_Zdxewm"
      }
    },
    {
      "cell_type": "code",
      "source": [
        "#@title String fields { run: \"auto\" }\n",
        "\n",
        "# Please add a text input with name \"text\" and a string dropdown with allow input\n"
      ],
      "metadata": {
        "id": "ryBLXJIMo_x3"
      },
      "execution_count": null,
      "outputs": []
    },
    {
      "cell_type": "markdown",
      "source": [
        "Please add a date input with name `date_input`."
      ],
      "metadata": {
        "id": "aal6t3_WIWW7"
      }
    },
    {
      "cell_type": "code",
      "source": [
        "#@title Date fields { run: \"auto\" }\n",
        "#@markdown Try **double-click** on the calender icon, **single-click** would set to current date.\n",
        "date_input = \"2022-01-12\" #@param {type:\"date\"}\n"
      ],
      "metadata": {
        "id": "qqG7IMy9y-sF"
      },
      "execution_count": 22,
      "outputs": []
    },
    {
      "cell_type": "markdown",
      "source": [
        "Please add a number input with name `number_input` and a number slider with name `number_slider`"
      ],
      "metadata": {
        "id": "JVddRD2KMMRR"
      }
    },
    {
      "cell_type": "code",
      "source": [
        "#@title Number fields { run: \"auto\" }"
      ],
      "metadata": {
        "id": "3KxBoRCPyU7l"
      },
      "execution_count": null,
      "outputs": []
    },
    {
      "cell_type": "code",
      "source": [
        "#@title Boolean fields { run: \"auto\" }\n"
      ],
      "metadata": {
        "id": "HCSQUYOnyh0l"
      },
      "execution_count": null,
      "outputs": []
    },
    {
      "cell_type": "code",
      "source": [
        "#@title Raw fields with None { run: \"auto\" }"
      ],
      "metadata": {
        "id": "QeA2x9KK6fND"
      },
      "execution_count": null,
      "outputs": []
    },
    {
      "cell_type": "markdown",
      "source": [
        "# Variables, and built-in data types\n",
        "\n",
        "For the variables declared in above code cells, you could change their value using form control on the right side. **That's the concept of variable, it used to store data which could be changed.**\n",
        "\n",
        "## Built-in data types in above forms\n",
        "\n",
        "- Text Sequence Type (str)\n",
        "- Numeric Types (int, float<!--, complex-->)\n",
        "\n",
        "<!---\n",
        "Actually, there are more.\n",
        "- Sequence Types (list, tuple, range)\n",
        "- Set Types (set, frozenset)\n",
        "- Iterator Types\n",
        "- Mapping Types (dict)\n",
        "-->"
      ],
      "metadata": {
        "id": "yP6NA-Xsud2L"
      }
    },
    {
      "cell_type": "markdown",
      "source": [
        "# Functions\n",
        "\n",
        "Let's talk about function. A function can take zero or more arguments. It's a convenient method to group code statements for reuse."
      ],
      "metadata": {
        "id": "LKO92dfkevPi"
      }
    },
    {
      "cell_type": "markdown",
      "source": [
        "## Python built-in functions"
      ],
      "metadata": {
        "id": "hEivj5nNnxs-"
      }
    },
    {
      "cell_type": "markdown",
      "source": [
        "We could use `print(...)` to print out the value. `print(...)` is a bulit-in function available in any python environment. It accepts any number of input arguments and print out all input value."
      ],
      "metadata": {
        "id": "xGkKXQkNmoVl"
      }
    },
    {
      "cell_type": "code",
      "execution_count": null,
      "metadata": {
        "colab": {
          "base_uri": "https://localhost:8080/"
        },
        "id": "WrzGaBHxPhrF",
        "outputId": "58042378-fb2a-4fd4-e668-d35b22f38870"
      },
      "outputs": [
        {
          "output_type": "stream",
          "name": "stdout",
          "text": [
            "Hello world\n"
          ]
        }
      ],
      "source": [
        "print(\"Hello\",'world')"
      ]
    },
    {
      "cell_type": "markdown",
      "source": [
        "Besides using Colab forms, the traditional way to give user input in Python is to use `input()` built-in function."
      ],
      "metadata": {
        "id": "gnpT-86LBlct"
      }
    },
    {
      "cell_type": "code",
      "source": [
        "text = input('Hello ')\n",
        "print(f'Hello {text}')"
      ],
      "metadata": {
        "colab": {
          "base_uri": "https://localhost:8080/"
        },
        "id": "1Fx5tUOYBl2j",
        "outputId": "a3dabeb9-3afb-43a6-dff9-d971ba414d62"
      },
      "execution_count": null,
      "outputs": [
        {
          "output_type": "stream",
          "name": "stdout",
          "text": [
            "Hello world\n",
            "Hello world\n"
          ]
        }
      ]
    },
    {
      "cell_type": "markdown",
      "source": [
        "`len()` for checking length of string and sequence."
      ],
      "metadata": {
        "id": "AQJNeY9hJWh_"
      }
    },
    {
      "cell_type": "code",
      "source": [
        "len(text)"
      ],
      "metadata": {
        "colab": {
          "base_uri": "https://localhost:8080/"
        },
        "id": "-SOexOH6JegG",
        "outputId": "1201e014-8a49-444b-c138-a08db991909d"
      },
      "execution_count": null,
      "outputs": [
        {
          "output_type": "execute_result",
          "data": {
            "text/plain": [
              "5"
            ]
          },
          "metadata": {},
          "execution_count": 41
        }
      ]
    },
    {
      "cell_type": "markdown",
      "source": [
        "To check a variable type, we could use `type()`."
      ],
      "metadata": {
        "id": "j04qineHadgd"
      }
    },
    {
      "cell_type": "code",
      "source": [
        "print(type(number_input))"
      ],
      "metadata": {
        "colab": {
          "base_uri": "https://localhost:8080/"
        },
        "id": "bSM-t5q4aqfq",
        "outputId": "922eb07e-44d6-4664-f2ce-53a84b59a5d2"
      },
      "execution_count": null,
      "outputs": [
        {
          "output_type": "stream",
          "name": "stdout",
          "text": [
            "<class 'int'>\n"
          ]
        }
      ]
    },
    {
      "cell_type": "markdown",
      "source": [
        "By default, it will automatically print the value of last line in the code cell. `min(x, y)` is another built-in function to return the smaller value among input arguments `x` and `y`."
      ],
      "metadata": {
        "id": "uXWjejY-mrVM"
      }
    },
    {
      "cell_type": "code",
      "source": [
        "min(number_input,number_slider)"
      ],
      "metadata": {
        "colab": {
          "base_uri": "https://localhost:8080/"
        },
        "id": "LfkKot0RoRy3",
        "outputId": "d34b8af7-e805-48b5-8137-c5a3dee5a466"
      },
      "execution_count": null,
      "outputs": [
        {
          "output_type": "execute_result",
          "data": {
            "text/plain": [
              "0"
            ]
          },
          "metadata": {},
          "execution_count": 31
        }
      ]
    },
    {
      "cell_type": "markdown",
      "source": [
        "`max(x, y)` do the opposite as expected. It would the larger value among `x` and `y`."
      ],
      "metadata": {
        "id": "WvhhHye5njTc"
      }
    },
    {
      "cell_type": "code",
      "source": [
        "max(number_input,number_slider)"
      ],
      "metadata": {
        "colab": {
          "base_uri": "https://localhost:8080/"
        },
        "id": "Ca3UQ4F4njiu",
        "outputId": "8b44b546-f25a-436f-c365-743ce1ae3a0a"
      },
      "execution_count": null,
      "outputs": [
        {
          "output_type": "execute_result",
          "data": {
            "text/plain": [
              "4.5"
            ]
          },
          "metadata": {},
          "execution_count": 32
        }
      ]
    },
    {
      "cell_type": "markdown",
      "source": [
        "Round a floating value to integer"
      ],
      "metadata": {
        "id": "pVypa-cnAtEj"
      }
    },
    {
      "cell_type": "code",
      "source": [
        "round(number_input)"
      ],
      "metadata": {
        "colab": {
          "base_uri": "https://localhost:8080/"
        },
        "id": "uEN5z30xAtwy",
        "outputId": "b168909b-8664-4719-a2bb-1276e1f88812"
      },
      "execution_count": null,
      "outputs": [
        {
          "output_type": "execute_result",
          "data": {
            "text/plain": [
              "0"
            ]
          },
          "metadata": {},
          "execution_count": 33
        }
      ]
    },
    {
      "cell_type": "markdown",
      "source": [
        "## User-defined function\n",
        "\n"
      ],
      "metadata": {
        "id": "_G0EevzTtUep"
      }
    },
    {
      "cell_type": "markdown",
      "source": [
        "### Defining a Function\n",
        "\n",
        "- Begin with the `def` keyword; \n",
        "- Followed by the function **name**, which is the identifier of the function and has the same rule as variable names; \n",
        "- Then place the list of **arguments** between **parentheses** and followed by a colon. Sometimes function has no parameter at all; \n",
        "- The  function  **body**:  the  list  of  statements  to  be  executed  when  the  function  is  executed.\n",
        "    - Indentation is mandatory for the function body. \n",
        "- Usually  the  function  **returns**  a  result  to  the  caller.  If  you  don’t  put  an  explicit  **return statement**,  the  function  will  automatically  return  **None**,  which  is  a  keyword  in  Python. Return statement can appear anywhere in the function body. Once the return statement is executed, it ends the function call. \n",
        "\n",
        "```python\n",
        "def function_name(param1, param2, … paramN):\n",
        "    statement 1\n",
        "    statement 2\n",
        "    ……\n",
        "    statement n\n",
        "    return return_value\n",
        "```\n",
        "```\n",
        "<--> Indentation\n",
        "```\n",
        "\n",
        "Python code bloacks are structured using indentation."
      ],
      "metadata": {
        "id": "V-N9izp2mFjt"
      }
    },
    {
      "cell_type": "markdown",
      "source": [
        "### Useful examples\n",
        "\n",
        "Like following example, if we print `Hello world` freqencently, we group wrap it in a function and simply calling the function for `Hello World`."
      ],
      "metadata": {
        "id": "9_rsd5AHfTTi"
      }
    },
    {
      "cell_type": "code",
      "source": [
        "def printHelloWorld():\n",
        "  print('Hello world')"
      ],
      "metadata": {
        "id": "9U4t-WdsAmzn"
      },
      "execution_count": null,
      "outputs": []
    },
    {
      "cell_type": "code",
      "source": [
        "printHelloWorld()"
      ],
      "metadata": {
        "colab": {
          "base_uri": "https://localhost:8080/"
        },
        "id": "3cXNGmB3B3J3",
        "outputId": "e4f15bfd-a72d-48e3-a97e-9b33dcd66ebe"
      },
      "execution_count": null,
      "outputs": [
        {
          "output_type": "stream",
          "name": "stdout",
          "text": [
            "Hello world\n"
          ]
        }
      ]
    },
    {
      "cell_type": "markdown",
      "source": [
        "Function usually invoke of calculation or combination of functions. Here is an example."
      ],
      "metadata": {
        "id": "GhmzAuPBAt8f"
      }
    },
    {
      "cell_type": "code",
      "source": [
        "def truncateToRange(start, end, value):\n",
        "  return max(start, min(end, value))"
      ],
      "metadata": {
        "id": "Bqe7ph9KmQg-"
      },
      "execution_count": null,
      "outputs": []
    },
    {
      "cell_type": "code",
      "source": [
        "truncateToRange(0, 10, 100)"
      ],
      "metadata": {
        "id": "0F7r28OD9PjY",
        "colab": {
          "base_uri": "https://localhost:8080/"
        },
        "outputId": "025eaaeb-302d-48bc-c8d2-bd24ccd0eb09"
      },
      "execution_count": null,
      "outputs": [
        {
          "output_type": "execute_result",
          "data": {
            "text/plain": [
              "10"
            ]
          },
          "metadata": {},
          "execution_count": 37
        }
      ]
    },
    {
      "cell_type": "markdown",
      "source": [
        "### Exercise\n",
        "\n",
        "Write a function that accepts a Celsius degree and returns the corresponding Fahrenheit degree.\n",
        "\n",
        "```\n",
        "Fahrenheit = 1.8Celsius + 32\n",
        "```"
      ],
      "metadata": {
        "id": "yA6wZ1EyfZhY"
      }
    },
    {
      "cell_type": "code",
      "source": [
        "# answer here\n",
        "\n"
      ],
      "metadata": {
        "id": "bGht4HaVGdQz"
      },
      "execution_count": null,
      "outputs": []
    },
    {
      "cell_type": "markdown",
      "source": [
        "## Global Variable and Local Variable in function\n",
        "\n",
        "**Global variable** means a variable defined outside a function. Global variables can be accessed inside or outside functions. Variables defined inside a function (i.e., the variable name appears on the left side  of  an  assignment  operator)  is  called  the **local  variables**  of  that  function.  Local  variables  of  a function can only be accessed (i.e., read or write) within that function."
      ],
      "metadata": {
        "id": "DFQrzJlahm4p"
      }
    },
    {
      "cell_type": "code",
      "source": [
        ""
      ],
      "metadata": {
        "id": "0iNSTr4Tffv4"
      },
      "execution_count": null,
      "outputs": []
    },
    {
      "cell_type": "markdown",
      "source": [
        "# Methods\n",
        "\n",
        "Methods are functions belongs to a particular data type."
      ],
      "metadata": {
        "id": "ZfwFWDeye9RM"
      }
    },
    {
      "cell_type": "markdown",
      "source": [
        "## String methods"
      ],
      "metadata": {
        "id": "yCfmBH6IfBX7"
      }
    },
    {
      "cell_type": "code",
      "source": [
        "text.upper()"
      ],
      "metadata": {
        "colab": {
          "base_uri": "https://localhost:8080/",
          "height": 35
        },
        "id": "I1Nnu5vyC3NM",
        "outputId": "d146ee40-6a02-45cc-e539-88e743a413e5"
      },
      "execution_count": null,
      "outputs": [
        {
          "output_type": "execute_result",
          "data": {
            "application/vnd.google.colaboratory.intrinsic+json": {
              "type": "string"
            },
            "text/plain": [
              "'WORLD'"
            ]
          },
          "metadata": {},
          "execution_count": 38
        }
      ]
    },
    {
      "cell_type": "code",
      "source": [
        "text.capitalize()"
      ],
      "metadata": {
        "colab": {
          "base_uri": "https://localhost:8080/",
          "height": 35
        },
        "id": "pVHNKPXEKfJU",
        "outputId": "8c73ef69-ac34-4fdb-f123-a9fefc49362f"
      },
      "execution_count": null,
      "outputs": [
        {
          "output_type": "execute_result",
          "data": {
            "application/vnd.google.colaboratory.intrinsic+json": {
              "type": "string"
            },
            "text/plain": [
              "'World'"
            ]
          },
          "metadata": {},
          "execution_count": 43
        }
      ]
    },
    {
      "cell_type": "code",
      "source": [
        "text.count('o')"
      ],
      "metadata": {
        "colab": {
          "base_uri": "https://localhost:8080/"
        },
        "id": "YzHc0WEKKmtP",
        "outputId": "77998ee4-060a-49a9-9acf-5b2542eeb661"
      },
      "execution_count": null,
      "outputs": [
        {
          "output_type": "execute_result",
          "data": {
            "text/plain": [
              "1"
            ]
          },
          "metadata": {},
          "execution_count": 48
        }
      ]
    },
    {
      "cell_type": "code",
      "source": [
        "text.find('or')"
      ],
      "metadata": {
        "colab": {
          "base_uri": "https://localhost:8080/"
        },
        "id": "oxyBjM3pKune",
        "outputId": "f5c1ea44-e99f-4625-8911-da36d5043a45"
      },
      "execution_count": null,
      "outputs": [
        {
          "output_type": "execute_result",
          "data": {
            "text/plain": [
              "1"
            ]
          },
          "metadata": {},
          "execution_count": 47
        }
      ]
    },
    {
      "cell_type": "code",
      "source": [
        "text.isalpha()"
      ],
      "metadata": {
        "colab": {
          "base_uri": "https://localhost:8080/"
        },
        "id": "wMT46_raLBxh",
        "outputId": "962a2e23-0260-4023-d881-066f1a389078"
      },
      "execution_count": null,
      "outputs": [
        {
          "output_type": "execute_result",
          "data": {
            "text/plain": [
              "True"
            ]
          },
          "metadata": {},
          "execution_count": 49
        }
      ]
    },
    {
      "cell_type": "code",
      "source": [
        "text.isnumeric()"
      ],
      "metadata": {
        "colab": {
          "base_uri": "https://localhost:8080/"
        },
        "id": "caEXy5t0LK9w",
        "outputId": "f84b5033-8727-4b5c-badd-1f91a5035bad"
      },
      "execution_count": null,
      "outputs": [
        {
          "output_type": "execute_result",
          "data": {
            "text/plain": [
              "False"
            ]
          },
          "metadata": {},
          "execution_count": 50
        }
      ]
    },
    {
      "cell_type": "code",
      "source": [
        "text.split('r')"
      ],
      "metadata": {
        "colab": {
          "base_uri": "https://localhost:8080/"
        },
        "id": "YPZiQYeTLTUB",
        "outputId": "6f32cea9-4d0c-4744-ce37-62090fa1d7c3"
      },
      "execution_count": null,
      "outputs": [
        {
          "output_type": "execute_result",
          "data": {
            "text/plain": [
              "['wo', 'ld']"
            ]
          },
          "metadata": {},
          "execution_count": 52
        }
      ]
    },
    {
      "cell_type": "markdown",
      "source": [
        "## Float methods"
      ],
      "metadata": {
        "id": "2ZcE3dd0L8TL"
      }
    },
    {
      "cell_type": "code",
      "source": [
        "number_slider.is_integer()"
      ],
      "metadata": {
        "colab": {
          "base_uri": "https://localhost:8080/"
        },
        "id": "asrTikBeL-a2",
        "outputId": "02ef8a06-3dcf-45e3-d024-b0267142c65e"
      },
      "execution_count": null,
      "outputs": [
        {
          "output_type": "execute_result",
          "data": {
            "text/plain": [
              "False"
            ]
          },
          "metadata": {},
          "execution_count": 54
        }
      ]
    },
    {
      "cell_type": "markdown",
      "source": [
        "# Sequence types and Flow control statements"
      ],
      "metadata": {
        "id": "WfzRp-e6fuRI"
      }
    },
    {
      "cell_type": "markdown",
      "source": [
        "## Sequence Types\n",
        "\n",
        "List of built-in sequence types\n",
        "\n",
        "- Sequence Types (list, tuple, range)\n",
        "- Set Types (set, frozenset)\n",
        "- Iterator Types\n",
        "- Mapping Types (dict)"
      ],
      "metadata": {
        "id": "xZ48PCaMHjtt"
      }
    },
    {
      "cell_type": "markdown",
      "source": [
        "### Tuple\n",
        "\n",
        "Tuple is a sequence type to store immutable sequence of data."
      ],
      "metadata": {
        "id": "fC1JiGFGDf7N"
      }
    },
    {
      "cell_type": "code",
      "source": [
        "tuple1 = 1, 3, 5, 7\n",
        "print(tuple1)"
      ],
      "metadata": {
        "colab": {
          "base_uri": "https://localhost:8080/"
        },
        "id": "ResmRJl7DiXO",
        "outputId": "eee04ba1-ba60-48cc-b13b-01d0fa7439a2"
      },
      "execution_count": 8,
      "outputs": [
        {
          "output_type": "stream",
          "name": "stdout",
          "text": [
            "(1, 3, 5, 7)\n"
          ]
        }
      ]
    },
    {
      "cell_type": "code",
      "source": [
        "tuple2 = (1, 3, 5, 7)\n",
        "print(tuple2)"
      ],
      "metadata": {
        "colab": {
          "base_uri": "https://localhost:8080/"
        },
        "id": "q50Owg6NDogU",
        "outputId": "af492cf6-9be3-4760-9591-7f25f7fc5502"
      },
      "execution_count": 3,
      "outputs": [
        {
          "output_type": "stream",
          "name": "stdout",
          "text": [
            "(1, 3, 5, 7)\n"
          ]
        }
      ]
    },
    {
      "cell_type": "code",
      "source": [
        "tuple3 = (\"Jack\", \"John\", \"Alice\")\n",
        "print(tuple3)"
      ],
      "metadata": {
        "colab": {
          "base_uri": "https://localhost:8080/"
        },
        "id": "qusAzIZ8D2-c",
        "outputId": "c23b2cb7-6faf-4ce8-c6a4-ee00728dde53"
      },
      "execution_count": 5,
      "outputs": [
        {
          "output_type": "stream",
          "name": "stdout",
          "text": [
            "('Jack', 'John', 'Alice')\n"
          ]
        }
      ]
    },
    {
      "cell_type": "code",
      "source": [
        "tuple4 = (1, \"Jack\", 2, \"John\")\n",
        "print(tuple4)"
      ],
      "metadata": {
        "colab": {
          "base_uri": "https://localhost:8080/"
        },
        "id": "Tt_roMeJD6q0",
        "outputId": "7b352c8a-bf65-42c0-d021-a0b952105e89"
      },
      "execution_count": 6,
      "outputs": [
        {
          "output_type": "stream",
          "name": "stdout",
          "text": [
            "(1, 'Jack', 2, 'John')\n"
          ]
        }
      ]
    },
    {
      "cell_type": "markdown",
      "source": [
        "To access a particular data in tuple, we could use index."
      ],
      "metadata": {
        "id": "1lSnZyLSEqh7"
      }
    },
    {
      "cell_type": "code",
      "source": [
        "print(tuple4[1])"
      ],
      "metadata": {
        "colab": {
          "base_uri": "https://localhost:8080/"
        },
        "id": "NoLQwDf3Eekk",
        "outputId": "ec2ddad9-384f-4729-c661-d1901b48a9df"
      },
      "execution_count": 10,
      "outputs": [
        {
          "output_type": "stream",
          "name": "stdout",
          "text": [
            "Jack\n"
          ]
        }
      ]
    },
    {
      "cell_type": "markdown",
      "source": [
        "Tuple is immutable. meaning that the values inside tuple could not be changed."
      ],
      "metadata": {
        "id": "O4KqA4zFE4Db"
      }
    },
    {
      "cell_type": "code",
      "source": [
        "tuple4[1] = 'Peter'"
      ],
      "metadata": {
        "colab": {
          "base_uri": "https://localhost:8080/",
          "height": 167
        },
        "id": "jArBc_G0EzeE",
        "outputId": "aacfe94d-0a99-4bf0-fe0e-36f19a79b6aa"
      },
      "execution_count": 11,
      "outputs": [
        {
          "output_type": "error",
          "ename": "TypeError",
          "evalue": "ignored",
          "traceback": [
            "\u001b[0;31m---------------------------------------------------------------------------\u001b[0m",
            "\u001b[0;31mTypeError\u001b[0m                                 Traceback (most recent call last)",
            "\u001b[0;32m<ipython-input-11-a9079930654f>\u001b[0m in \u001b[0;36m<module>\u001b[0;34m()\u001b[0m\n\u001b[0;32m----> 1\u001b[0;31m \u001b[0mtuple4\u001b[0m\u001b[0;34m[\u001b[0m\u001b[0;36m1\u001b[0m\u001b[0;34m]\u001b[0m \u001b[0;34m=\u001b[0m \u001b[0;34m'Peter'\u001b[0m\u001b[0;34m\u001b[0m\u001b[0;34m\u001b[0m\u001b[0m\n\u001b[0m",
            "\u001b[0;31mTypeError\u001b[0m: 'tuple' object does not support item assignment"
          ]
        }
      ]
    },
    {
      "cell_type": "markdown",
      "source": [
        "### List"
      ],
      "metadata": {
        "id": "y0jgwui0EErM"
      }
    },
    {
      "cell_type": "code",
      "source": [
        "list1 = [1, 3, 5, 7]\n",
        "print(list1)"
      ],
      "metadata": {
        "colab": {
          "base_uri": "https://localhost:8080/"
        },
        "id": "1PHh2wlFEF4k",
        "outputId": "7a4e80d3-8000-45b7-db31-fe6bb7c51f31"
      },
      "execution_count": 13,
      "outputs": [
        {
          "output_type": "stream",
          "name": "stdout",
          "text": [
            "[1, 3, 5, 7]\n"
          ]
        }
      ]
    },
    {
      "cell_type": "code",
      "source": [
        "list2 = [\"Jack\", \"John\", \"Alice\"]\n",
        "print(list2)"
      ],
      "metadata": {
        "colab": {
          "base_uri": "https://localhost:8080/"
        },
        "id": "cueMneVlFTxr",
        "outputId": "c0cc179c-e656-419d-d989-c296d6e1b257"
      },
      "execution_count": 14,
      "outputs": [
        {
          "output_type": "stream",
          "name": "stdout",
          "text": [
            "['Jack', 'John', 'Alice']\n"
          ]
        }
      ]
    },
    {
      "cell_type": "code",
      "source": [
        "list3 = [1, \"Jack\", 2, \"John\"]\n",
        "print(list3)"
      ],
      "metadata": {
        "colab": {
          "base_uri": "https://localhost:8080/"
        },
        "id": "tj8ZAltGFY6c",
        "outputId": "149b659b-034f-45a1-dc1e-58fb20557be4"
      },
      "execution_count": 15,
      "outputs": [
        {
          "output_type": "stream",
          "name": "stdout",
          "text": [
            "[1, 'Jack', 2, 'John']\n"
          ]
        }
      ]
    },
    {
      "cell_type": "code",
      "source": [
        "#Generate a list from a range\n",
        "list4 = list(range(10, 20, 2))\n",
        "print(list4)"
      ],
      "metadata": {
        "colab": {
          "base_uri": "https://localhost:8080/"
        },
        "id": "Bf6ZTNYdFKPd",
        "outputId": "52aa8048-28a1-4374-d35e-c3e0bf124abf"
      },
      "execution_count": 12,
      "outputs": [
        {
          "output_type": "stream",
          "name": "stdout",
          "text": [
            "range(10, 20, 2)\n",
            "[10, 12, 14, 16, 18]\n"
          ]
        }
      ]
    },
    {
      "cell_type": "code",
      "source": [
        "list4.append(20)\n",
        "print(list4)"
      ],
      "metadata": {
        "colab": {
          "base_uri": "https://localhost:8080/"
        },
        "id": "OIVfRUdCO0Ab",
        "outputId": "83368869-a211-4ebd-ca93-2f3107293c4c"
      },
      "execution_count": 41,
      "outputs": [
        {
          "output_type": "stream",
          "name": "stdout",
          "text": [
            "[10, 12, 14, 16, 18, 20]\n"
          ]
        }
      ]
    },
    {
      "cell_type": "code",
      "source": [
        "list4.pop()\n",
        "print(list4)"
      ],
      "metadata": {
        "colab": {
          "base_uri": "https://localhost:8080/"
        },
        "id": "KpdKWayEO3XL",
        "outputId": "8dc7ec1a-28a5-42e0-9a73-4a21fea1d888"
      },
      "execution_count": 42,
      "outputs": [
        {
          "output_type": "stream",
          "name": "stdout",
          "text": [
            "[10, 12, 14, 16, 18]\n"
          ]
        }
      ]
    },
    {
      "cell_type": "markdown",
      "source": [
        "### Dict"
      ],
      "metadata": {
        "id": "OgihVPGsOO4E"
      }
    },
    {
      "cell_type": "code",
      "source": [
        "ages = {\"Jack\":35, \"Linda\":32, \"Alice\":6}"
      ],
      "metadata": {
        "id": "xfcNdTwcOQNZ"
      },
      "execution_count": 38,
      "outputs": []
    },
    {
      "cell_type": "code",
      "source": [
        "ages[\"Jack\"]"
      ],
      "metadata": {
        "colab": {
          "base_uri": "https://localhost:8080/"
        },
        "id": "RMPKjRFUOenj",
        "outputId": "4ad0a9f5-0935-4174-aa0e-6c810c6f6a63"
      },
      "execution_count": 39,
      "outputs": [
        {
          "output_type": "execute_result",
          "data": {
            "text/plain": [
              "35"
            ]
          },
          "metadata": {},
          "execution_count": 39
        }
      ]
    },
    {
      "cell_type": "code",
      "source": [
        "ages[\"Alice\"] = 16\n",
        "print(ages)"
      ],
      "metadata": {
        "colab": {
          "base_uri": "https://localhost:8080/"
        },
        "id": "1AoXyzfPOi_k",
        "outputId": "f3d47981-2df8-42a9-d6db-338d036d803b"
      },
      "execution_count": 40,
      "outputs": [
        {
          "output_type": "stream",
          "name": "stdout",
          "text": [
            "{'Jack': 35, 'Linda': 32, 'Alice': 16}\n"
          ]
        }
      ]
    },
    {
      "cell_type": "code",
      "source": [
        "ages[\"Peter\"] = 38\n",
        "print(ages)"
      ],
      "metadata": {
        "colab": {
          "base_uri": "https://localhost:8080/"
        },
        "id": "ubmmDDTNR2IS",
        "outputId": "36e2f9be-2d3a-47d1-b198-277907d11f1e"
      },
      "execution_count": 51,
      "outputs": [
        {
          "output_type": "stream",
          "name": "stdout",
          "text": [
            "{'Jack': 35, 'Linda': 32, 'Alice': 16, 'Peter': 38}\n"
          ]
        }
      ]
    },
    {
      "cell_type": "markdown",
      "source": [
        "## Flow control statement: if … else …\n",
        "\n",
        "With  the  else  clause  (if…else  statement),  it  allows  you  to  specify  that  different  actions  are  to  be performed when the condition is false. The syntax is: \n",
        "```python\n",
        "if expression:\n",
        "    statement(s) 1\n",
        "else:\n",
        "    statement(s) 2\n",
        "```"
      ],
      "metadata": {
        "id": "ualHWMsiHQoO"
      }
    },
    {
      "cell_type": "code",
      "source": [
        "if ages[\"Jack\"] > ages[\"Linda\"]:\n",
        "  print('Linda is younger than Jack.')\n",
        "else:\n",
        "  print('Linda is older than Jack')"
      ],
      "metadata": {
        "id": "jE8l7J86HTee"
      },
      "execution_count": null,
      "outputs": []
    },
    {
      "cell_type": "markdown",
      "source": [
        "## Control statement: for … in …\n",
        "\n",
        "- The **for** statement is used for **<ins>iterating over a sequence</ins>**.\n",
        "- We can execute a **block of statements**,once for each item in the sequence.\n",
        "    - such as a **list**, **tuple**, **range**, and **dictionary**."
      ],
      "metadata": {
        "id": "uMkNoT1WHcuQ"
      }
    },
    {
      "cell_type": "code",
      "source": [
        "days = ['Monday', 'Tuesday', 'Wednesday', 'Thursday', 'Friday', 'Saturday', 'Sunday']\n",
        "for d in days:\n",
        "    print(d)"
      ],
      "metadata": {
        "id": "oYfbe8a_HcSb",
        "colab": {
          "base_uri": "https://localhost:8080/"
        },
        "outputId": "2a8a8688-e1bd-4f0f-f22b-0f05654c1727"
      },
      "execution_count": 28,
      "outputs": [
        {
          "output_type": "stream",
          "name": "stdout",
          "text": [
            "Monday\n",
            "Tuesday\n",
            "Wednesday\n",
            "Thursday\n",
            "Friday\n",
            "Saturday\n",
            "Sunday\n"
          ]
        }
      ]
    },
    {
      "cell_type": "markdown",
      "source": [
        "Or we could loop throught the index using range."
      ],
      "metadata": {
        "id": "QzsoEpBDNReK"
      }
    },
    {
      "cell_type": "code",
      "source": [
        "for i in range(len(days)):\n",
        "    print(days[i])"
      ],
      "metadata": {
        "id": "WCsbPpNQNIas",
        "colab": {
          "base_uri": "https://localhost:8080/"
        },
        "outputId": "cdd646ad-6561-4b99-ce1f-148da4edbaa2"
      },
      "execution_count": 29,
      "outputs": [
        {
          "output_type": "stream",
          "name": "stdout",
          "text": [
            "Monday\n",
            "Tuesday\n",
            "Wednesday\n",
            "Thursday\n",
            "Friday\n",
            "Saturday\n",
            "Sunday\n"
          ]
        }
      ]
    },
    {
      "cell_type": "markdown",
      "source": [
        "## Exercise: Lyrics generator"
      ],
      "metadata": {
        "id": "kNO-zZTvIbjT"
      }
    },
    {
      "cell_type": "code",
      "source": [
        "from IPython.display import YouTubeVideo\n",
        "YouTubeVideo('b0NHrFNZWh0')"
      ],
      "metadata": {
        "colab": {
          "base_uri": "https://localhost:8080/",
          "height": 321
        },
        "id": "WjyPiJSLIdFg",
        "outputId": "1439e0a5-46f1-4e23-e70e-9e3445393bf5"
      },
      "execution_count": null,
      "outputs": [
        {
          "output_type": "execute_result",
          "data": {
            "text/html": [
              "\n",
              "        <iframe\n",
              "            width=\"400\"\n",
              "            height=\"300\"\n",
              "            src=\"https://www.youtube.com/embed/b0NHrFNZWh0\"\n",
              "            frameborder=\"0\"\n",
              "            allowfullscreen\n",
              "        ></iframe>\n",
              "        "
            ],
            "text/plain": [
              "<IPython.lib.display.YouTubeVideo at 0x7f9667560710>"
            ],
            "image/jpeg": "[encoded data removed]"
          },
          "metadata": {},
          "execution_count": 42
        }
      ]
    },
    {
      "cell_type": "markdown",
      "source": [
        "Five Little Monkeys is a very popular kids song. Let's generate the following lyrics using list and for-in loop.\n",
        "\n",
        "```\n",
        "Five little monkeys jumping on the bed\n",
        "One fell off and bumped his head\n",
        "Mama called the doctor and the doctor said\n",
        "\"No more monkeys jumping on the bed!\"\n",
        "\n",
        "Four little monkeys jumping on the bed\n",
        "One fell off and bumped his head\n",
        "Mama called the doctor and the doctor said\n",
        "\"No more monkeys jumping on the bed!\"\n",
        "\n",
        "Three little monkeys jumping on the bed\n",
        "One fell off and bumped his head\n",
        "Mama called the doctor and the doctor said\n",
        "\"No more monkeys jumping on the bed!\"\n",
        "\n",
        "Two little monkeys jumping on the bed\n",
        "One fell off and bumped his head\n",
        "Mama called the doctor and the doctor said\n",
        "\"No more monkeys jumping on the bed!\"\n",
        "\n",
        "One little monkey jumping on the bed\n",
        "None fell off and bumped his head\n",
        "Mama called the doctor and the doctor said\n",
        "\"Put those monkeys back to bed!\"\n",
        "```"
      ],
      "metadata": {
        "id": "x9I0GR6vJ9CC"
      }
    },
    {
      "cell_type": "code",
      "source": [
        "# answer here"
      ],
      "metadata": {
        "id": "-sUdbVEEJpjc"
      },
      "execution_count": null,
      "outputs": []
    },
    {
      "cell_type": "markdown",
      "source": [
        "# Module\n",
        "\n",
        "\n",
        "- A large software program may consist of **many** Python script files.\n",
        "\n",
        "- May also use some Python standard library functions and some third‐party functions.\n",
        "\n",
        "- In order to **avoid name clashes** (i.e., different Python files use the same identifiers), Python uses **modules** to organize the program codes **for reuse**, and provides **self-contained namespaces** that minimize variable name clashes across your programs. \n",
        "\n",
        "- Two modules are allowed to include the functions **with the same name**. \n",
        "\n",
        "- Each Python file is a module\n",
        "\n",
        "- Python modules import other modules to use the **names** they define.\n",
        "    (such as functions and global variables)"
      ],
      "metadata": {
        "id": "guvZswhGsaDH"
      }
    },
    {
      "cell_type": "markdown",
      "source": [
        "## How to use Python modules?\n",
        "\n",
        "There are two popular ways to use a module: \n",
        "- `import`: Let say a client (importer) fetch a module as a whole  \n",
        "- `from`: Allows clients to fetch particular names from a module "
      ],
      "metadata": {
        "id": "eDSoB5PYt6b3"
      }
    },
    {
      "cell_type": "markdown",
      "source": [
        "## Built-in modules"
      ],
      "metadata": {
        "id": "PKq4-9mpKxjj"
      }
    },
    {
      "cell_type": "markdown",
      "source": [
        "### Math module\n",
        "\n",
        "[https://docs.python.org/3/library/math.html](https://docs.python.org/3/library/math.html)"
      ],
      "metadata": {
        "id": "OBIogqRQuJCR"
      }
    },
    {
      "cell_type": "code",
      "source": [
        "import math\n",
        "from math import ceil\n",
        "\n",
        "print(math.floor(4.5))\n",
        "print(ceil(4.5))"
      ],
      "metadata": {
        "colab": {
          "base_uri": "https://localhost:8080/"
        },
        "id": "j405DLDvt52r",
        "outputId": "ab24653c-f876-445f-d246-e34cc0c938bc"
      },
      "execution_count": null,
      "outputs": [
        {
          "output_type": "stream",
          "name": "stdout",
          "text": [
            "4\n",
            "5\n"
          ]
        }
      ]
    },
    {
      "cell_type": "markdown",
      "source": [
        "### Time module\n",
        "\n",
        "[https://docs.python.org/3/library/time.html](https://docs.python.org/3/library/time.html)"
      ],
      "metadata": {
        "id": "_r7K4MCYHmvM"
      }
    },
    {
      "cell_type": "code",
      "source": [
        "import time\n",
        "\n",
        "time.strftime(\"%a, %d %b %Y %H:%M:%S +0800\", time.gmtime())"
      ],
      "metadata": {
        "colab": {
          "base_uri": "https://localhost:8080/",
          "height": 35
        },
        "id": "BBAzQNanHF_v",
        "outputId": "9a6f3e9a-5515-4129-acb0-022dc77bdfda"
      },
      "execution_count": null,
      "outputs": [
        {
          "output_type": "execute_result",
          "data": {
            "application/vnd.google.colaboratory.intrinsic+json": {
              "type": "string"
            },
            "text/plain": [
              "'Wed, 12 Jan 2022 02:31:29 +0800'"
            ]
          },
          "metadata": {},
          "execution_count": 18
        }
      ]
    },
    {
      "cell_type": "markdown",
      "source": [
        "It's how we convert date string to `time structure` in Python."
      ],
      "metadata": {
        "id": "DO87jdlSJAWs"
      }
    },
    {
      "cell_type": "code",
      "source": [
        "time.strptime(date_input, \"%Y-%m-%d\")"
      ],
      "metadata": {
        "colab": {
          "base_uri": "https://localhost:8080/"
        },
        "id": "cQumQKkXILLj",
        "outputId": "3a16112f-ca91-429f-aa99-03890f71a2d2"
      },
      "execution_count": null,
      "outputs": [
        {
          "output_type": "execute_result",
          "data": {
            "text/plain": [
              "time.struct_time(tm_year=2022, tm_mon=1, tm_mday=12, tm_hour=0, tm_min=0, tm_sec=0, tm_wday=2, tm_yday=12, tm_isdst=-1)"
            ]
          },
          "metadata": {},
          "execution_count": 23
        }
      ]
    },
    {
      "cell_type": "code",
      "source": [
        "print('Please wait 9 second to see the output.')\n",
        "time.sleep(9)\n",
        "print('Hi, there!')"
      ],
      "metadata": {
        "colab": {
          "base_uri": "https://localhost:8080/"
        },
        "id": "Pzv8Eg5kJNZj",
        "outputId": "b7a2553e-dece-41fd-9b8f-cb27a1b5d1cd"
      },
      "execution_count": null,
      "outputs": [
        {
          "output_type": "stream",
          "name": "stdout",
          "text": [
            "Please wait 3 second to see the output.\n",
            "Hi, there!\n"
          ]
        }
      ]
    },
    {
      "cell_type": "markdown",
      "source": [
        "### Requests module and file IO"
      ],
      "metadata": {
        "id": "I0p1F22vK4C7"
      }
    },
    {
      "cell_type": "code",
      "source": [
        "import requests\n",
        "\n",
        "r = requests.get('https://www.try.gov.hk/internet/trypayment/ece_treasury_controlling_officer_report_no_of_payments_2019_20.json')\n",
        "data = r.json()\n",
        "\n",
        "print(data)"
      ],
      "metadata": {
        "colab": {
          "base_uri": "https://localhost:8080/"
        },
        "id": "MoXOi1D_K6a7",
        "outputId": "76f18f63-a939-48d4-ddb3-f947b6ff5ff8"
      },
      "execution_count": 45,
      "outputs": [
        {
          "output_type": "stream",
          "name": "stdout",
          "text": [
            "[{'Type': 'No. of payments to creditors', 'Actual Amount for 2018': '779918'}]\n"
          ]
        }
      ]
    },
    {
      "cell_type": "code",
      "source": [
        "print(data[0])"
      ],
      "metadata": {
        "colab": {
          "base_uri": "https://localhost:8080/"
        },
        "id": "pgrKWoRXPYB4",
        "outputId": "253f511b-3033-47c1-adcd-aee3b6021f78"
      },
      "execution_count": 46,
      "outputs": [
        {
          "output_type": "stream",
          "name": "stdout",
          "text": [
            "{'Type': 'No. of payments to creditors', 'Actual Amount for 2018': '779918'}\n"
          ]
        }
      ]
    },
    {
      "cell_type": "code",
      "source": [
        "print(data[0]['Type'])"
      ],
      "metadata": {
        "colab": {
          "base_uri": "https://localhost:8080/"
        },
        "id": "mO1MDB4KPcNI",
        "outputId": "0e9d067e-af7a-4301-f381-7d56ccbe4816"
      },
      "execution_count": 47,
      "outputs": [
        {
          "output_type": "stream",
          "name": "stdout",
          "text": [
            "No. of payments to creditors\n"
          ]
        }
      ]
    },
    {
      "cell_type": "code",
      "source": [
        "print(data[0]['Actual Amount for 2018'])"
      ],
      "metadata": {
        "colab": {
          "base_uri": "https://localhost:8080/"
        },
        "id": "2elOEta8Pegg",
        "outputId": "1f824c10-10c2-4ef4-db3e-9c291f079329"
      },
      "execution_count": 48,
      "outputs": [
        {
          "output_type": "stream",
          "name": "stdout",
          "text": [
            "779918\n"
          ]
        }
      ]
    },
    {
      "cell_type": "markdown",
      "source": [
        "## External module"
      ],
      "metadata": {
        "id": "3xD5qGWdPqcA"
      }
    },
    {
      "cell_type": "markdown",
      "source": [
        "## Numpy"
      ],
      "metadata": {
        "id": "8mcxy90nSkUj"
      }
    },
    {
      "cell_type": "code",
      "source": [
        "!pip install numpy\n",
        "\n",
        "import numpy as np"
      ],
      "metadata": {
        "colab": {
          "base_uri": "https://localhost:8080/"
        },
        "id": "eQsAbDgQPqLL",
        "outputId": "79ef3c3b-4a79-45ee-d15c-1b684516d6f0"
      },
      "execution_count": 53,
      "outputs": [
        {
          "output_type": "stream",
          "name": "stdout",
          "text": [
            "Requirement already satisfied: numpy in /usr/local/lib/python3.7/dist-packages (1.19.5)\n"
          ]
        }
      ]
    },
    {
      "cell_type": "markdown",
      "source": [
        "### Array"
      ],
      "metadata": {
        "id": "g1Kk2JXOSl2y"
      }
    },
    {
      "cell_type": "code",
      "source": [
        "nplist1 = np.array(list1)\n",
        "print(nplist1)"
      ],
      "metadata": {
        "colab": {
          "base_uri": "https://localhost:8080/"
        },
        "id": "zfz7MQJlPt_4",
        "outputId": "db5e6a56-4204-4970-ac15-a5a49d94d8db"
      },
      "execution_count": 54,
      "outputs": [
        {
          "output_type": "stream",
          "name": "stdout",
          "text": [
            "[1 3 5 7]\n"
          ]
        }
      ]
    },
    {
      "cell_type": "code",
      "source": [
        ""
      ],
      "metadata": {
        "id": "5e8h7zJgS3vn"
      },
      "execution_count": null,
      "outputs": []
    }
  ]
}